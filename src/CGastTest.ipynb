{
 "cells": [
  {
   "cell_type": "markdown",
   "metadata": {},
   "source": [
    "### P0 AST Tests"
   ]
  },
  {
   "cell_type": "markdown",
   "metadata": {},
   "source": [
    "**Emil Sekerinski, McMaster University, revised February 2022**\n",
    "\n",
    "Also includes some symbol table tests."
   ]
  },
  {
   "cell_type": "code",
   "execution_count": null,
   "metadata": {},
   "outputs": [],
   "source": [
    "import nbimporter; nbimporter.options[\"only_defs\"] = False\n",
    "from P0 import compileString\n",
    "from ST import symTabStr"
   ]
  },
  {
   "cell_type": "markdown",
   "metadata": {},
   "source": [
    "#### Control Structures"
   ]
  },
  {
   "cell_type": "code",
   "execution_count": null,
   "metadata": {},
   "outputs": [],
   "source": [
    "assert compileString(\"\"\"\n",
    "var a: [1..10] → integer\n",
    "program p\n",
    "  var x: integer\n",
    "    x ← read()\n",
    "    if x > 0 then\n",
    "      while a[x] < 7 do\n",
    "        x := x + 1\n",
    "    else write(x)\n",
    "    writeln()\n",
    "\"\"\", target='ast') == \"\"\"\\\n",
    "seq\n",
    "  seq\n",
    "    call Var(name = x, lev = 1, tp = <class 'ST.Int'>) read\n",
    "    ifelse\n",
    "      >\n",
    "        Var(name = x, lev = 1, tp = <class 'ST.Int'>)\n",
    "        Const(name = , tp = <class 'ST.Int'>, val = 0)\n",
    "      while\n",
    "        <\n",
    "          Var(name = a, lev = 0, tp = Array(lower = 1, length = 10, base = <class 'ST.Int'>))[]\n",
    "             Var(name = x, lev = 1, tp = <class 'ST.Int'>)\n",
    "          Const(name = , tp = <class 'ST.Int'>, val = 7)\n",
    "        :=\n",
    "          Var(name = x, lev = 1, tp = <class 'ST.Int'>)\n",
    "          +\n",
    "            Var(name = x, lev = 1, tp = <class 'ST.Int'>)\n",
    "            Const(name = , tp = <class 'ST.Int'>, val = 1)\n",
    "      call  write\n",
    "        Var(name = x, lev = 1, tp = <class 'ST.Int'>)\n",
    "  call  writeln\"\"\""
   ]
  },
  {
   "cell_type": "code",
   "execution_count": null,
   "metadata": {},
   "outputs": [],
   "source": [
    "assert symTabStr() == \\\n",
    "[[\"Type(name = boolean, val = <class 'ST.Bool'>)\",\n",
    "  \"Type(name = integer, val = <class 'ST.Int'>)\",\n",
    "  \"Const(name = true, tp = <class 'ST.Bool'>, val = 1)\",\n",
    "  \"Const(name = false, tp = <class 'ST.Bool'>, val = 0)\",\n",
    "  \"StdProc(name = read, lev = 0, par = [], res = [Var(name = , lev = , tp = <class 'ST.Int'>)])\",\n",
    "  \"StdProc(name = write, lev = 0, par = [Var(name = , lev = , tp = <class 'ST.Int'>)], res = [])\",\n",
    "  'StdProc(name = writeln, lev = 0, par = [], res = [])',\n",
    "  \"Var(name = a, lev = 0, tp = Array(lower = 1, length = 10, base = <class 'ST.Int'>))\"]]"
   ]
  },
  {
   "cell_type": "markdown",
   "metadata": {},
   "source": [
    "#### Records"
   ]
  },
  {
   "cell_type": "code",
   "execution_count": null,
   "metadata": {},
   "outputs": [],
   "source": [
    "assert compileString(\"\"\"\n",
    "var a: integer\n",
    "var r: (f, g: integer)\n",
    "program p\n",
    "    a := 3\n",
    "    r.g := 5\n",
    "    r.f := a\n",
    "    a := r.g\n",
    "\"\"\", target='ast') == \"\"\"\\\n",
    "seq\n",
    "  seq\n",
    "    seq\n",
    "      :=\n",
    "        Var(name = a, lev = 0, tp = <class 'ST.Int'>)\n",
    "        Const(name = , tp = <class 'ST.Int'>, val = 3)\n",
    "      :=\n",
    "        Var(name = r, lev = 0, tp = Record(fields = [Var(name = f, lev = 1, tp = <class 'ST.Int'>), Var(name = g, lev = 1, tp = <class 'ST.Int'>)])).Var(name = g, lev = 1, tp = <class 'ST.Int'>)\n",
    "        Const(name = , tp = <class 'ST.Int'>, val = 5)\n",
    "    :=\n",
    "      Var(name = r, lev = 0, tp = Record(fields = [Var(name = f, lev = 1, tp = <class 'ST.Int'>), Var(name = g, lev = 1, tp = <class 'ST.Int'>)])).Var(name = f, lev = 1, tp = <class 'ST.Int'>)\n",
    "      Var(name = a, lev = 0, tp = <class 'ST.Int'>)\n",
    "  :=\n",
    "    Var(name = a, lev = 0, tp = <class 'ST.Int'>)\n",
    "    Var(name = r, lev = 0, tp = Record(fields = [Var(name = f, lev = 1, tp = <class 'ST.Int'>), Var(name = g, lev = 1, tp = <class 'ST.Int'>)])).Var(name = g, lev = 1, tp = <class 'ST.Int'>)\"\"\""
   ]
  },
  {
   "cell_type": "code",
   "execution_count": null,
   "metadata": {},
   "outputs": [],
   "source": [
    "assert symTabStr() == \\\n",
    "[[\"Type(name = boolean, val = <class 'ST.Bool'>)\",\n",
    "  \"Type(name = integer, val = <class 'ST.Int'>)\",\n",
    "  \"Const(name = true, tp = <class 'ST.Bool'>, val = 1)\",\n",
    "  \"Const(name = false, tp = <class 'ST.Bool'>, val = 0)\",\n",
    "  \"StdProc(name = read, lev = 0, par = [], res = [Var(name = , lev = , tp = <class 'ST.Int'>)])\",\n",
    "  \"StdProc(name = write, lev = 0, par = [Var(name = , lev = , tp = <class 'ST.Int'>)], res = [])\",\n",
    "  'StdProc(name = writeln, lev = 0, par = [], res = [])',\n",
    "  \"Var(name = a, lev = 0, tp = <class 'ST.Int'>)\",\n",
    "  \"Var(name = r, lev = 0, tp = Record(fields = [Var(name = f, lev = 1, tp = <class 'ST.Int'>), Var(name = g, lev = 1, tp = <class 'ST.Int'>)]))\"]]"
   ]
  },
  {
   "cell_type": "markdown",
   "metadata": {},
   "source": [
    "#### Arrays"
   ]
  },
  {
   "cell_type": "code",
   "execution_count": null,
   "metadata": {},
   "outputs": [],
   "source": [
    "assert compileString(\"\"\"\n",
    "var a: [1..10] → integer\n",
    "program p\n",
    "  var i: integer\n",
    "    a[5] := 3\n",
    "    a[i] := 5\n",
    "    a[i + 7] := i + 9\n",
    "\"\"\", target='ast') == \"\"\"\\\n",
    "seq\n",
    "  seq\n",
    "    :=\n",
    "      Var(name = a, lev = 0, tp = Array(lower = 1, length = 10, base = <class 'ST.Int'>))[]\n",
    "         Const(name = , tp = <class 'ST.Int'>, val = 5)\n",
    "      Const(name = , tp = <class 'ST.Int'>, val = 3)\n",
    "    :=\n",
    "      Var(name = a, lev = 0, tp = Array(lower = 1, length = 10, base = <class 'ST.Int'>))[]\n",
    "         Var(name = i, lev = 1, tp = <class 'ST.Int'>)\n",
    "      Const(name = , tp = <class 'ST.Int'>, val = 5)\n",
    "  :=\n",
    "    Var(name = a, lev = 0, tp = Array(lower = 1, length = 10, base = <class 'ST.Int'>))[]\n",
    "       +\n",
    "        Var(name = i, lev = 1, tp = <class 'ST.Int'>)\n",
    "        Const(name = , tp = <class 'ST.Int'>, val = 7)\n",
    "    +\n",
    "      Var(name = i, lev = 1, tp = <class 'ST.Int'>)\n",
    "      Const(name = , tp = <class 'ST.Int'>, val = 9)\"\"\""
   ]
  },
  {
   "cell_type": "code",
   "execution_count": null,
   "metadata": {},
   "outputs": [],
   "source": [
    "assert symTabStr() == \\\n",
    "[[\"Type(name = boolean, val = <class 'ST.Bool'>)\",\n",
    "  \"Type(name = integer, val = <class 'ST.Int'>)\",\n",
    "  \"Const(name = true, tp = <class 'ST.Bool'>, val = 1)\",\n",
    "  \"Const(name = false, tp = <class 'ST.Bool'>, val = 0)\",\n",
    "  \"StdProc(name = read, lev = 0, par = [], res = [Var(name = , lev = , tp = <class 'ST.Int'>)])\",\n",
    "  \"StdProc(name = write, lev = 0, par = [Var(name = , lev = , tp = <class 'ST.Int'>)], res = [])\",\n",
    "  'StdProc(name = writeln, lev = 0, par = [], res = [])',\n",
    "  \"Var(name = a, lev = 0, tp = Array(lower = 1, length = 10, base = <class 'ST.Int'>))\"]]"
   ]
  }
 ],
 "metadata": {
  "kernelspec": {
   "display_name": "Python 3",
   "language": "python",
   "name": "python3"
  },
  "language_info": {
   "codemirror_mode": {
    "name": "ipython",
    "version": 3
   },
   "file_extension": ".py",
   "mimetype": "text/x-python",
   "name": "python",
   "nbconvert_exporter": "python",
   "pygments_lexer": "ipython3",
   "version": "3.8.8"
  },
  "toc": {
   "base_numbering": 1,
   "nav_menu": {},
   "number_sections": false,
   "sideBar": false,
   "skip_h1_title": true,
   "title_cell": "Table of Contents",
   "title_sidebar": "Contents",
   "toc_cell": false,
   "toc_position": {},
   "toc_section_display": true,
   "toc_window_display": false
  }
 },
 "nbformat": 4,
 "nbformat_minor": 2
}
