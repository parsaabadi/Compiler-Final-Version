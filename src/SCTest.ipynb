{
 "cells": [
  {
   "cell_type": "markdown",
   "metadata": {},
   "source": [
    "### P0 Scanner Tests"
   ]
  },
  {
   "cell_type": "markdown",
   "metadata": {},
   "source": [
    "**Emil Sekerinski, McMaster University, revised February 2022**\n",
    "\n",
    "Tests scanner output and produces all scanner error messages."
   ]
  },
  {
   "cell_type": "code",
   "execution_count": null,
   "metadata": {},
   "outputs": [],
   "source": [
    "import nbimporter; nbimporter.options[\"only_defs\"] = False\n",
    "import SC"
   ]
  },
  {
   "cell_type": "markdown",
   "metadata": {},
   "source": [
    "Procedure `scan` collects the symbols recognized by the scanner into a list. The list consists of pair with `SC.sym` and `SC.newline`; other variables of `SC` like `SC.val`, `SC.pos`, etc. are not included, but the code can easily be modified."
   ]
  },
  {
   "cell_type": "code",
   "execution_count": null,
   "metadata": {},
   "outputs": [],
   "source": [
    "from SC import TIMES, DIV, MOD, AND, PLUS, MINUS, OR, EQ, NE, LT, GT, \\\n",
    "    LE, GE, PERIOD, COMMA, COLON, NOT, LPAREN, RPAREN, LBRAK, RBRAK, \\\n",
    "    LARROW, RARROW, LBRACE, RBRACE, CARD, COMPLEMENT, UNION, INTERSECTION, \\\n",
    "    ELEMENT, SUBSET, SUPERSET, DOTDOT, THEN, DO, BECOMES, NUMBER, IDENT, \\\n",
    "    SEMICOLON, ELSE, IF, WHILE, CONST, TYPE, VAR, SET, PROCEDURE, PROGRAM, \\\n",
    "    INDENT, DEDENT, EOF\n",
    "\n",
    "symbol = {IDENT: 'IDENT', NUMBER: 'NUMBER', TIMES: 'TIMES', DIV: 'DIV', MOD: 'MOD',\n",
    "    PLUS: 'PLUS', MINUS: 'MINUS', AND: 'AND', OR: 'OR', EQ: 'EQ', NE: 'NE',\n",
    "    LT: 'LT', GT: 'GT', LE: 'LE', GE: 'GE', SEMICOLON: 'SEMICOLON', COMMA: 'COMMA',\n",
    "    COLON: 'COLON', BECOMES: 'BECOMES', PERIOD: 'PERIOD', DOTDOT: 'DOTDOT',\n",
    "    NOT: 'NOT', LPAREN: 'LPAREN', RPAREN: 'RPAREN', LBRAK: 'LBRAK', RBRAK: 'RBRAK',\n",
    "    LBRACE: 'LBRACE', RBRACE: 'RBRACE', LARROW: 'LARROW', RARROW: 'RARROW', CARD: 'CARD',\n",
    "    COMPLEMENT: 'COMPLEMENT', UNION: 'UNION', INTERSECTION: 'INTERSECTION',\n",
    "    ELEMENT: 'ELEMENT', SUBSET: 'SUBSET', SUPERSET: 'SUPERSET', IF: 'IF', THEN: 'THEN',\n",
    "    ELSE: 'ELSE', WHILE: 'WHILE', DO: 'DO', CONST: 'CONST', TYPE: 'TYPE', VAR: 'VAR',\n",
    "    SET: 'SET', PROCEDURE: 'PROCEDURE', PROGRAM: 'PROGRAM', INDENT: 'INDENT',\n",
    "    DEDENT: 'DEDENT', EOF: 'EOF'}\n",
    "\n",
    "def scan(src): # for a more readable scanner output\n",
    "    SC.init(src); syms = []\n",
    "    while SC.sym != SC.EOF:\n",
    "        syms.append((symbol[SC.sym], SC.newline))\n",
    "        SC.getSym()\n",
    "    return syms"
   ]
  },
  {
   "cell_type": "code",
   "execution_count": null,
   "metadata": {},
   "outputs": [],
   "source": [
    "assert scan(\"\"\"\n",
    "\n",
    "program p\n",
    "\n",
    "  if a then\n",
    "    writeln()\n",
    "  else\n",
    "    writeln()\n",
    "  if a then writeln() else writeln()\n",
    "\"\"\") == \\\n",
    "[('PROGRAM', True),\n",
    " ('IDENT', False),\n",
    " ('INDENT', False),\n",
    " ('IF', True),\n",
    " ('IDENT', False),\n",
    " ('THEN', False),\n",
    " ('INDENT', False),\n",
    " ('IDENT', True),\n",
    " ('LPAREN', False),\n",
    " ('RPAREN', False),\n",
    " ('DEDENT', False),\n",
    " ('ELSE', True),\n",
    " ('INDENT', True),\n",
    " ('IDENT', True),\n",
    " ('LPAREN', False),\n",
    " ('RPAREN', False),\n",
    " ('DEDENT', False),\n",
    " ('IF', True),\n",
    " ('IDENT', False),\n",
    " ('THEN', False),\n",
    " ('IDENT', False),\n",
    " ('LPAREN', False),\n",
    " ('RPAREN', False),\n",
    " ('ELSE', False),\n",
    " ('IDENT', False),\n",
    " ('LPAREN', False),\n",
    " ('RPAREN', False),\n",
    " ('DEDENT', False)]"
   ]
  },
  {
   "cell_type": "code",
   "execution_count": null,
   "metadata": {},
   "outputs": [],
   "source": [
    "assert scan(\"\"\"\n",
    "type T = [1..10] → integer\n",
    "var a: T\n",
    "procedure r()\n",
    "    a[3] := 9\n",
    "program p\n",
    "  a[3] := 9\n",
    "\"\"\") == \\\n",
    "[('TYPE', True),\n",
    " ('IDENT', False),\n",
    " ('EQ', False),\n",
    " ('LBRAK', False),\n",
    " ('NUMBER', False),\n",
    " ('DOTDOT', False),\n",
    " ('NUMBER', False),\n",
    " ('RBRAK', False),\n",
    " ('RARROW', False),\n",
    " ('IDENT', False),\n",
    " ('VAR', True),\n",
    " ('IDENT', False),\n",
    " ('COLON', False),\n",
    " ('IDENT', False),\n",
    " ('PROCEDURE', True),\n",
    " ('IDENT', False),\n",
    " ('LPAREN', False),\n",
    " ('RPAREN', False),\n",
    " ('INDENT', False),\n",
    " ('IDENT', True),\n",
    " ('LBRAK', False),\n",
    " ('NUMBER', False),\n",
    " ('RBRAK', False),\n",
    " ('BECOMES', False),\n",
    " ('NUMBER', False),\n",
    " ('DEDENT', False),\n",
    " ('PROGRAM', True),\n",
    " ('IDENT', False),\n",
    " ('INDENT', False),\n",
    " ('IDENT', True),\n",
    " ('LBRAK', False),\n",
    " ('NUMBER', False),\n",
    " ('RBRAK', False),\n",
    " ('BECOMES', False),\n",
    " ('NUMBER', False),\n",
    " ('DEDENT', False)]"
   ]
  },
  {
   "cell_type": "code",
   "execution_count": null,
   "metadata": {},
   "outputs": [],
   "source": [
    "assert scan(\"\"\"\n",
    "program\n",
    "y := 5\n",
    "if a then\n",
    "  if b then\n",
    "    a := b\n",
    "x := 3\n",
    "\"\"\") == \\\n",
    "[('PROGRAM', True),\n",
    " ('IDENT', True),\n",
    " ('BECOMES', False),\n",
    " ('NUMBER', False),\n",
    " ('IF', True),\n",
    " ('IDENT', False),\n",
    " ('THEN', False),\n",
    " ('INDENT', False),\n",
    " ('IF', True),\n",
    " ('IDENT', False),\n",
    " ('THEN', False),\n",
    " ('INDENT', False),\n",
    " ('IDENT', True),\n",
    " ('BECOMES', False),\n",
    " ('IDENT', False),\n",
    " ('DEDENT', False),\n",
    " ('DEDENT', False),\n",
    " ('IDENT', True),\n",
    " ('BECOMES', False),\n",
    " ('NUMBER', False)]"
   ]
  },
  {
   "cell_type": "code",
   "execution_count": null,
   "metadata": {},
   "outputs": [],
   "source": [
    "assert scan(\"\"\"\n",
    "program p\n",
    "  while 2 > 3 do\n",
    "    write(1)\n",
    "\"\"\") == \\\n",
    "[('PROGRAM', True),\n",
    " ('IDENT', False),\n",
    " ('INDENT', False),\n",
    " ('WHILE', True),\n",
    " ('NUMBER', False),\n",
    " ('GT', False),\n",
    " ('NUMBER', False),\n",
    " ('DO', False),\n",
    " ('INDENT', False),\n",
    " ('IDENT', True),\n",
    " ('LPAREN', False),\n",
    " ('NUMBER', False),\n",
    " ('RPAREN', False),\n",
    " ('DEDENT', False),\n",
    " ('DEDENT', False)]"
   ]
  },
  {
   "cell_type": "code",
   "execution_count": null,
   "metadata": {},
   "outputs": [],
   "source": [
    "assert scan(\"\"\"// comment 1\n",
    "program p      // comment 2\n",
    "  writeln()    // comment 3\n",
    "               // comment 4\n",
    "\"\"\") == \\\n",
    "[('PROGRAM', True),\n",
    " ('IDENT', False),\n",
    " ('INDENT', False),\n",
    " ('IDENT', True),\n",
    " ('LPAREN', False),\n",
    " ('RPAREN', False),\n",
    " ('DEDENT', False)]"
   ]
  },
  {
   "cell_type": "markdown",
   "metadata": {},
   "source": [
    "Procedure `scanerr(s)` returns an empty string if scanning `s` succeeds or the error message produced while scanning; the error message is also printed. "
   ]
  },
  {
   "cell_type": "code",
   "execution_count": null,
   "metadata": {},
   "outputs": [],
   "source": [
    "def scanerr(s):\n",
    "    try: scan(s); return ''\n",
    "    except Exception as e:\n",
    "        print(e); return str(e)"
   ]
  },
  {
   "cell_type": "code",
   "execution_count": null,
   "metadata": {},
   "outputs": [],
   "source": [
    "assert \"number too large\" in scanerr(\"\"\"\n",
    "const c = 12345678901234567890\n",
    "\"\"\")"
   ]
  },
  {
   "cell_type": "code",
   "execution_count": null,
   "metadata": {},
   "outputs": [],
   "source": [
    "assert \"illegal character\" in scanerr(\"\"\"\n",
    "program p_\n",
    "  writeln()\n",
    "\"\"\")"
   ]
  }
 ],
 "metadata": {
  "kernelspec": {
   "display_name": "Python 3",
   "language": "python",
   "name": "python3"
  },
  "language_info": {
   "codemirror_mode": {
    "name": "ipython",
    "version": 3
   },
   "file_extension": ".py",
   "mimetype": "text/x-python",
   "name": "python",
   "nbconvert_exporter": "python",
   "pygments_lexer": "ipython3",
   "version": "3.8.8"
  },
  "toc": {
   "base_numbering": 1,
   "nav_menu": {},
   "number_sections": false,
   "sideBar": false,
   "skip_h1_title": true,
   "title_cell": "Table of Contents",
   "title_sidebar": "Contents",
   "toc_cell": false,
   "toc_position": {},
   "toc_section_display": true,
   "toc_window_display": false
  }
 },
 "nbformat": 4,
 "nbformat_minor": 2
}
