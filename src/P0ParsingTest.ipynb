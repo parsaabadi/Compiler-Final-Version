{
 "cells": [
  {
   "cell_type": "markdown",
   "metadata": {},
   "source": [
    "### P0 Parsing Tests"
   ]
  },
  {
   "cell_type": "markdown",
   "metadata": {},
   "source": [
    "**Emil Sekerinski, McMaster University, revised February 2022**"
   ]
  },
  {
   "cell_type": "code",
   "execution_count": 2,
   "metadata": {},
   "outputs": [],
   "source": [
    "import nbimporter; nbimporter.options[\"only_defs\"] = False\n",
    "from P0 import compileString"
   ]
  },
  {
   "cell_type": "markdown",
   "metadata": {},
   "source": [
    "Procedure `compileerr(s)` returns an empty string if compiling `s` succeeds or the error message produced while compiling; the error message is also printed. The procedure is used here to test parsing."
   ]
  },
  {
   "cell_type": "code",
   "execution_count": 3,
   "metadata": {},
   "outputs": [],
   "source": [
    "def compileerr(s):\n",
    "    try: compileString(s); return ''\n",
    "    except Exception as e:\n",
    "        print(e); return str(e)"
   ]
  },
  {
   "cell_type": "markdown",
   "metadata": {},
   "source": [
    "#### Error \"] expected\""
   ]
  },
  {
   "cell_type": "code",
   "execution_count": 4,
   "metadata": {},
   "outputs": [
    {
     "name": "stdout",
     "output_type": "stream",
     "text": [
      "line 5 pos 12 ] expected\n"
     ]
    }
   ],
   "source": [
    "assert \"] expected\" in compileerr(\"\"\"\n",
    "var a: [1..10] → integer\n",
    "var x: integer\n",
    "program p\n",
    "    x := a[4\n",
    "\"\"\")"
   ]
  },
  {
   "cell_type": "markdown",
   "metadata": {},
   "source": [
    "#### Error \") expected\""
   ]
  },
  {
   "cell_type": "code",
   "execution_count": 5,
   "metadata": {},
   "outputs": [
    {
     "name": "stdout",
     "output_type": "stream",
     "text": [
      "line 4 pos 11 ) expected\n"
     ]
    }
   ],
   "source": [
    "assert \") expected\" in compileerr(\"\"\"\n",
    "program p\n",
    "  var x: integer\n",
    "    x := (5\n",
    "\"\"\")"
   ]
  },
  {
   "cell_type": "markdown",
   "metadata": {},
   "source": [
    "#### Error \"expression expected\""
   ]
  },
  {
   "cell_type": "code",
   "execution_count": 6,
   "metadata": {},
   "outputs": [
    {
     "name": "stdout",
     "output_type": "stream",
     "text": [
      "line 4 pos 10 expression expected\n"
     ]
    }
   ],
   "source": [
    "assert \"expression expected\" in compileerr(\"\"\"\n",
    "program p\n",
    "  var x: integer\n",
    "    x := +\n",
    "\"\"\")"
   ]
  },
  {
   "cell_type": "markdown",
   "metadata": {},
   "source": [
    "#### Error \"new line expected\""
   ]
  },
  {
   "cell_type": "code",
   "execution_count": 7,
   "metadata": {},
   "outputs": [
    {
     "name": "stdout",
     "output_type": "stream",
     "text": [
      "line 3 pos 16 new line expected\n"
     ]
    }
   ],
   "source": [
    "assert \"new line expected\" in compileerr(\"\"\"\n",
    "program p\n",
    "  write(5) write(7)\n",
    "\"\"\")"
   ]
  },
  {
   "cell_type": "markdown",
   "metadata": {},
   "source": [
    "#### Error \"dedent or new line expected\""
   ]
  },
  {
   "cell_type": "code",
   "execution_count": 8,
   "metadata": {},
   "outputs": [
    {
     "name": "stdout",
     "output_type": "stream",
     "text": [
      "line 4 pos 4 dedent or new line expected\n"
     ]
    }
   ],
   "source": [
    "assert \"dedent or new line expected\" in compileerr(\"\"\"\n",
    "program p\n",
    "  write(5)\n",
    "    write(7)\n",
    "\"\"\")"
   ]
  },
  {
   "cell_type": "markdown",
   "metadata": {},
   "source": [
    "#### Error \"indented statement expected\""
   ]
  },
  {
   "cell_type": "code",
   "execution_count": 9,
   "metadata": {},
   "outputs": [
    {
     "name": "stdout",
     "output_type": "stream",
     "text": [
      "line 3 pos 16 indented statement expected\n"
     ]
    }
   ],
   "source": [
    "assert \"indented statement expected\" in compileerr(\"\"\"\n",
    "procedure p()\n",
    "  if 3 > 4 then\n",
    "writeln()\n",
    "\"\"\")"
   ]
  },
  {
   "cell_type": "markdown",
   "metadata": {},
   "source": [
    "#### Error \"variable for result expected\""
   ]
  },
  {
   "cell_type": "code",
   "execution_count": 10,
   "metadata": {},
   "outputs": [
    {
     "name": "stdout",
     "output_type": "stream",
     "text": [
      "line 3 pos 6 variable for result expected\n"
     ]
    }
   ],
   "source": [
    "assert \"variable for result expected\" in compileerr(\"\"\"\n",
    "program p\n",
    "  read()\n",
    "\"\"\")"
   ]
  },
  {
   "cell_type": "markdown",
   "metadata": {},
   "source": [
    "#### Error \":= or ← expected\""
   ]
  },
  {
   "cell_type": "code",
   "execution_count": 11,
   "metadata": {},
   "outputs": [
    {
     "name": "stdout",
     "output_type": "stream",
     "text": [
      "line 5 pos 10 := or ← expected\n"
     ]
    }
   ],
   "source": [
    "assert \":= or ← expected\" in compileerr(\"\"\"\n",
    "var a: [5 .. 7] → integer\n",
    "program p\n",
    "  var b: boolean\n",
    "    a[5] +\n",
    "\"\"\")"
   ]
  },
  {
   "cell_type": "markdown",
   "metadata": {},
   "source": [
    "#### Error \"'(' expected\""
   ]
  },
  {
   "cell_type": "code",
   "execution_count": 12,
   "metadata": {},
   "outputs": [
    {
     "name": "stdout",
     "output_type": "stream",
     "text": [
      "line 3 pos 9 '(' expected\n"
     ]
    }
   ],
   "source": [
    "assert \"'(' expected\" in compileerr(\"\"\"\n",
    "program p\n",
    "  writeln\n",
    "\"\"\")"
   ]
  },
  {
   "cell_type": "markdown",
   "metadata": {},
   "source": [
    "#### Error \"')' expected\""
   ]
  },
  {
   "cell_type": "code",
   "execution_count": 13,
   "metadata": {},
   "outputs": [
    {
     "name": "stdout",
     "output_type": "stream",
     "text": [
      "line 3 pos 10 ')' expected\n"
     ]
    }
   ],
   "source": [
    "assert \"')' expected\" in compileerr(\"\"\"\n",
    "program p\n",
    "  writeln(\n",
    "\"\"\")"
   ]
  },
  {
   "cell_type": "markdown",
   "metadata": {},
   "source": [
    "#### Error \"'then' expected\""
   ]
  },
  {
   "cell_type": "code",
   "execution_count": 14,
   "metadata": {},
   "outputs": [
    {
     "name": "stdout",
     "output_type": "stream",
     "text": [
      "line 3 pos 15 'then' expected\n"
     ]
    }
   ],
   "source": [
    "assert \"'then' expected\" in compileerr(\"\"\"\n",
    "program p\n",
    "  if true write(5)\n",
    "\"\"\")"
   ]
  },
  {
   "cell_type": "markdown",
   "metadata": {},
   "source": [
    "#### Error \"'do' expected\""
   ]
  },
  {
   "cell_type": "code",
   "execution_count": 15,
   "metadata": {},
   "outputs": [
    {
     "name": "stdout",
     "output_type": "stream",
     "text": [
      "line 3 pos 18 'do' expected\n"
     ]
    }
   ],
   "source": [
    "assert \"'do' expected\" in compileerr(\"\"\"\n",
    "program p\n",
    "  while true write(5)\n",
    "\"\"\")"
   ]
  },
  {
   "cell_type": "markdown",
   "metadata": {},
   "source": [
    "#### Error \"statement expected\""
   ]
  },
  {
   "cell_type": "code",
   "execution_count": 16,
   "metadata": {},
   "outputs": [
    {
     "name": "stdout",
     "output_type": "stream",
     "text": [
      "line 3 pos 17 statement expected\n"
     ]
    }
   ],
   "source": [
    "assert \"statement expected\" in compileerr(\"\"\"\n",
    "program p\n",
    "  write(3); const c = 5\n",
    "\"\"\")"
   ]
  },
  {
   "cell_type": "markdown",
   "metadata": {},
   "source": [
    "#### Error \"'..' expected\""
   ]
  },
  {
   "cell_type": "code",
   "execution_count": 17,
   "metadata": {},
   "outputs": [
    {
     "name": "stdout",
     "output_type": "stream",
     "text": [
      "line 2 pos 11 '..' expected\n"
     ]
    }
   ],
   "source": [
    "assert \"'..' expected\" in compileerr(\"\"\"\n",
    "var a: [5 → integer\n",
    "program p\n",
    "  writeln()\n",
    "\"\"\")"
   ]
  },
  {
   "cell_type": "markdown",
   "metadata": {},
   "source": [
    "#### Error \"']' expected\""
   ]
  },
  {
   "cell_type": "code",
   "execution_count": 18,
   "metadata": {},
   "outputs": [
    {
     "name": "stdout",
     "output_type": "stream",
     "text": [
      "line 2 pos 14 ']' expected\n"
     ]
    }
   ],
   "source": [
    "assert \"']' expected\" in compileerr(\"\"\"\n",
    "var a: [5..7 → integer\n",
    "program p\n",
    "  writeln()\n",
    "\"\"\")"
   ]
  },
  {
   "cell_type": "markdown",
   "metadata": {},
   "source": [
    "#### Error \"'→' expected\""
   ]
  },
  {
   "cell_type": "code",
   "execution_count": 19,
   "metadata": {},
   "outputs": [
    {
     "name": "stdout",
     "output_type": "stream",
     "text": [
      "line 2 pos 23 '→' expected\n"
     ]
    }
   ],
   "source": [
    "assert \"'→' expected\" in compileerr(\"\"\"\n",
    "var a: [3 .. 7] integer\n",
    "program p\n",
    "  writeln()\n",
    "\"\"\")"
   ]
  },
  {
   "cell_type": "markdown",
   "metadata": {},
   "source": [
    "#### Error \"type expected\""
   ]
  },
  {
   "cell_type": "code",
   "execution_count": 20,
   "metadata": {},
   "outputs": [
    {
     "name": "stdout",
     "output_type": "stream",
     "text": [
      "line 3 pos 11 type expected\n"
     ]
    }
   ],
   "source": [
    "assert \"type expected\" in compileerr(\"\"\"\n",
    "program p\n",
    "  var x: if\n",
    "\"\"\")"
   ]
  },
  {
   "cell_type": "markdown",
   "metadata": {},
   "source": [
    "#### Error \"identifier expected\""
   ]
  },
  {
   "cell_type": "code",
   "execution_count": 21,
   "metadata": {},
   "outputs": [
    {
     "name": "stdout",
     "output_type": "stream",
     "text": [
      "line 3 pos 8 identifier expected\n"
     ]
    }
   ],
   "source": [
    "assert \"identifier expected\" in compileerr(\"\"\"\n",
    "program p\n",
    "  var if: integer\n",
    "\"\"\")"
   ]
  },
  {
   "cell_type": "markdown",
   "metadata": {},
   "source": [
    "#### Error \"identifier expected\""
   ]
  },
  {
   "cell_type": "code",
   "execution_count": 22,
   "metadata": {},
   "outputs": [
    {
     "name": "stdout",
     "output_type": "stream",
     "text": [
      "line 3 pos 8 identifier expected\n"
     ]
    }
   ],
   "source": [
    "assert \"identifier expected\" in compileerr(\"\"\"\n",
    "program p\n",
    "  var if: integer\n",
    "\"\"\")"
   ]
  },
  {
   "cell_type": "markdown",
   "metadata": {},
   "source": [
    "#### Error \"identifier expected\""
   ]
  },
  {
   "cell_type": "code",
   "execution_count": 23,
   "metadata": {},
   "outputs": [
    {
     "name": "stdout",
     "output_type": "stream",
     "text": [
      "line 3 pos 11 identifier expected\n"
     ]
    }
   ],
   "source": [
    "assert \"identifier expected\" in compileerr(\"\"\"\n",
    "program p\n",
    "  var x, if: integer\n",
    "\"\"\")"
   ]
  },
  {
   "cell_type": "markdown",
   "metadata": {},
   "source": [
    "\n",
    "#### Error \"':' expected\""
   ]
  },
  {
   "cell_type": "code",
   "execution_count": 24,
   "metadata": {},
   "outputs": [
    {
     "name": "stdout",
     "output_type": "stream",
     "text": [
      "line 3 pos 15 ':' expected\n"
     ]
    }
   ],
   "source": [
    "assert \"':' expected\" in compileerr(\"\"\"\n",
    "program p\n",
    "  var x integer\n",
    "\"\"\")"
   ]
  },
  {
   "cell_type": "markdown",
   "metadata": {},
   "source": [
    "#### Error \"identifier expected\""
   ]
  },
  {
   "cell_type": "code",
   "execution_count": 25,
   "metadata": {},
   "outputs": [
    {
     "name": "stdout",
     "output_type": "stream",
     "text": [
      "line 3 pos 23 identifier expected\n"
     ]
    }
   ],
   "source": [
    "assert \"identifier expected\" in compileerr(\"\"\"\n",
    "program p\n",
    "  var i, j: integer, if: boolean\n",
    "\"\"\")"
   ]
  },
  {
   "cell_type": "markdown",
   "metadata": {},
   "source": [
    "#### Error \"identifier expected\""
   ]
  },
  {
   "cell_type": "code",
   "execution_count": 26,
   "metadata": {},
   "outputs": [
    {
     "name": "stdout",
     "output_type": "stream",
     "text": [
      "line 3 pos 26 identifier expected\n"
     ]
    }
   ],
   "source": [
    "assert \"identifier expected\" in compileerr(\"\"\"\n",
    "program p\n",
    "  var i, j: integer, b, if: boolean\n",
    "\"\"\")"
   ]
  },
  {
   "cell_type": "markdown",
   "metadata": {},
   "source": [
    "#### Error \"constant name expected\""
   ]
  },
  {
   "cell_type": "code",
   "execution_count": 27,
   "metadata": {},
   "outputs": [
    {
     "name": "stdout",
     "output_type": "stream",
     "text": [
      "line 3 pos 9 constant name expected\n"
     ]
    }
   ],
   "source": [
    "assert \"constant name expected\" in compileerr(\"\"\"\n",
    "program p\n",
    "  const 5 = 7\n",
    "  write(3)\n",
    "\"\"\")"
   ]
  },
  {
   "cell_type": "markdown",
   "metadata": {},
   "source": [
    "#### Error \"= expected\""
   ]
  },
  {
   "cell_type": "code",
   "execution_count": 28,
   "metadata": {},
   "outputs": [
    {
     "name": "stdout",
     "output_type": "stream",
     "text": [
      "line 3 pos 10 = expected\n"
     ]
    }
   ],
   "source": [
    "assert \"= expected\" in compileerr(\"\"\"\n",
    "program p\n",
    "  const c: 5\n",
    "  write(5)\n",
    "\"\"\")"
   ]
  },
  {
   "cell_type": "markdown",
   "metadata": {},
   "source": [
    "#### Error \"type name expected\""
   ]
  },
  {
   "cell_type": "code",
   "execution_count": 29,
   "metadata": {},
   "outputs": [
    {
     "name": "stdout",
     "output_type": "stream",
     "text": [
      "line 3 pos 8 type name expected\n"
     ]
    }
   ],
   "source": [
    "assert \"type name expected\" in compileerr(\"\"\"\n",
    "program p\n",
    "  type 5 = integer\n",
    "  write(3)\n",
    "\"\"\")"
   ]
  },
  {
   "cell_type": "markdown",
   "metadata": {},
   "source": [
    "#### Error \"= expected\""
   ]
  },
  {
   "cell_type": "code",
   "execution_count": 30,
   "metadata": {},
   "outputs": [
    {
     "name": "stdout",
     "output_type": "stream",
     "text": [
      "line 3 pos 9 = expected\n"
     ]
    }
   ],
   "source": [
    "assert \"= expected\" in compileerr(\"\"\"\n",
    "program p\n",
    "  type T: integer\n",
    "  writeln()\n",
    "\"\"\")"
   ]
  },
  {
   "cell_type": "markdown",
   "metadata": {},
   "source": [
    "#### Error  \"procedure name expected\""
   ]
  },
  {
   "cell_type": "code",
   "execution_count": 31,
   "metadata": {},
   "outputs": [
    {
     "name": "stdout",
     "output_type": "stream",
     "text": [
      "line 3 pos 2 procedure name expected\n"
     ]
    }
   ],
   "source": [
    "assert \"procedure name expected\" in compileerr(\"\"\"\n",
    "procedure\n",
    "  writeln()\n",
    "program p\n",
    "  writeln()\n",
    "\"\"\")"
   ]
  },
  {
   "cell_type": "markdown",
   "metadata": {},
   "source": [
    "#### Error  \"( expected\""
   ]
  },
  {
   "cell_type": "code",
   "execution_count": 32,
   "metadata": {},
   "outputs": [
    {
     "name": "stdout",
     "output_type": "stream",
     "text": [
      "line 3 pos 2 ( expected\n"
     ]
    }
   ],
   "source": [
    "assert \"( expected\" in compileerr(\"\"\"\n",
    "procedure q\n",
    "  writeln()\n",
    "program p\n",
    "  writeln()\n",
    "\"\"\")"
   ]
  },
  {
   "cell_type": "markdown",
   "metadata": {},
   "source": [
    "#### Error  \") expected\""
   ]
  },
  {
   "cell_type": "code",
   "execution_count": 33,
   "metadata": {},
   "outputs": [
    {
     "name": "stdout",
     "output_type": "stream",
     "text": [
      "line 3 pos 2 ) expected\n"
     ]
    }
   ],
   "source": [
    "assert \") expected\" in compileerr(\"\"\"\n",
    "procedure q(\n",
    "  writeln()\n",
    "program p\n",
    "  writeln()\n",
    "\"\"\")"
   ]
  },
  {
   "cell_type": "markdown",
   "metadata": {},
   "source": [
    "#### Error  \"( expected\""
   ]
  },
  {
   "cell_type": "code",
   "execution_count": 34,
   "metadata": {},
   "outputs": [
    {
     "name": "stdout",
     "output_type": "stream",
     "text": [
      "line 2 pos 33 ( expected\n"
     ]
    }
   ],
   "source": [
    "assert \"( expected\" in compileerr(\"\"\"\n",
    "procedure q(x: integer) → boolean\n",
    "  writeln()\n",
    "program p\n",
    "  writeln()\n",
    "\"\"\")"
   ]
  },
  {
   "cell_type": "markdown",
   "metadata": {},
   "source": [
    "#### Error  \") expected\""
   ]
  },
  {
   "cell_type": "code",
   "execution_count": 35,
   "metadata": {},
   "outputs": [
    {
     "name": "stdout",
     "output_type": "stream",
     "text": [
      "line 3 pos 2 ) expected\n"
     ]
    }
   ],
   "source": [
    "assert \") expected\" in compileerr(\"\"\"\n",
    "procedure q(x: integer) → (y: boolean\n",
    "  writeln()\n",
    "program p\n",
    "  writeln()\n",
    "\"\"\")"
   ]
  },
  {
   "cell_type": "markdown",
   "metadata": {},
   "source": [
    "#### Error  \"indent expected\""
   ]
  },
  {
   "cell_type": "code",
   "execution_count": 36,
   "metadata": {},
   "outputs": [
    {
     "name": "stdout",
     "output_type": "stream",
     "text": [
      "line 3 pos 7 indent expected\n"
     ]
    }
   ],
   "source": [
    "assert \"indent expected\" in compileerr(\"\"\"\n",
    "program p\n",
    "writeln()\n",
    "\"\"\")"
   ]
  },
  {
   "cell_type": "markdown",
   "metadata": {},
   "source": [
    "#### Error \"dedent or new line expected\""
   ]
  },
  {
   "cell_type": "code",
   "execution_count": 37,
   "metadata": {},
   "outputs": [
    {
     "name": "stdout",
     "output_type": "stream",
     "text": [
      "line 5 pos 6 got49 dedent or new line expected\n"
     ]
    }
   ],
   "source": [
    "assert \"dedent or new line expected\" in compileerr(\"\"\"\n",
    "program p\n",
    "  const c = 5\n",
    "    writeln()\n",
    "      writeln()\n",
    "\"\"\")"
   ]
  },
  {
   "cell_type": "markdown",
   "metadata": {},
   "source": [
    "#### Error \"statement expected\""
   ]
  },
  {
   "cell_type": "code",
   "execution_count": 38,
   "metadata": {},
   "outputs": [
    {
     "name": "stdout",
     "output_type": "stream",
     "text": [
      "line 3 pos 9 statement expected\n"
     ]
    }
   ],
   "source": [
    "assert \"statement expected\" in compileerr(\"\"\"\n",
    "program p\n",
    "  program q\n",
    "\"\"\")"
   ]
  },
  {
   "cell_type": "markdown",
   "metadata": {},
   "source": [
    "#### Error \"dedent or new line expected\""
   ]
  },
  {
   "cell_type": "code",
   "execution_count": 39,
   "metadata": {},
   "outputs": [
    {
     "name": "stdout",
     "output_type": "stream",
     "text": [
      "line 4 pos 4 dedent or new line expected\n"
     ]
    }
   ],
   "source": [
    "assert \"dedent or new line expected\" in compileerr(\"\"\"\n",
    "program p\n",
    "  writeln()\n",
    "    writeln()\n",
    "\"\"\")"
   ]
  },
  {
   "cell_type": "markdown",
   "metadata": {},
   "source": [
    "#### Error \"'program' expected\""
   ]
  },
  {
   "cell_type": "code",
   "execution_count": 40,
   "metadata": {},
   "outputs": [
    {
     "name": "stdout",
     "output_type": "stream",
     "text": [
      "line 2 pos 14 'program' expected\n"
     ]
    }
   ],
   "source": [
    "assert \"'program' expected\" in compileerr(\"\"\"\n",
    "var x: integer\n",
    "\"\"\")"
   ]
  },
  {
   "cell_type": "markdown",
   "metadata": {},
   "source": [
    "#### Error \"program name expected\""
   ]
  },
  {
   "cell_type": "code",
   "execution_count": 41,
   "metadata": {},
   "outputs": [
    {
     "name": "stdout",
     "output_type": "stream",
     "text": [
      "line 3 pos 2 program name expected\n"
     ]
    }
   ],
   "source": [
    "assert \"program name expected\" in compileerr(\"\"\"\n",
    "program\n",
    "  writeln()\n",
    "\"\"\")"
   ]
  },
  {
   "cell_type": "markdown",
   "metadata": {},
   "source": [
    "#### Multiple Indentations"
   ]
  },
  {
   "cell_type": "code",
   "execution_count": 42,
   "metadata": {},
   "outputs": [],
   "source": [
    "assert compileString(\"\"\"\n",
    "procedure q()\n",
    "  var b: boolean\n",
    "    b := true\n",
    "    if b then write(3)\n",
    "    else write(5)\n",
    "    if ¬b then write(5)\n",
    "    else if b then write(7)\n",
    "    else write(9)\n",
    "    while b do\n",
    "      if b then\n",
    "        b := false; write(1)\n",
    "program p\n",
    "  if 3 > 4 then writeln() else\n",
    "    q()\n",
    "\"\"\") == \"\"\"\\\n",
    "(module\n",
    "(import \"P0lib\" \"write\" (func $write (param i32)))\n",
    "(import \"P0lib\" \"writeln\" (func $writeln))\n",
    "(import \"P0lib\" \"read\" (func $read (result i32)))\n",
    "(func $q  \n",
    "(local $b i32)\n",
    "(local $0 i32)\n",
    "i32.const 1\n",
    "local.set $b\n",
    "local.get $b\n",
    "if\n",
    "i32.const 3\n",
    "call $write\n",
    "else\n",
    "i32.const 5\n",
    "call $write\n",
    "end\n",
    "local.get $b\n",
    "i32.eqz\n",
    "if\n",
    "i32.const 5\n",
    "call $write\n",
    "else\n",
    "local.get $b\n",
    "if\n",
    "i32.const 7\n",
    "call $write\n",
    "else\n",
    "i32.const 9\n",
    "call $write\n",
    "end\n",
    "end\n",
    "loop\n",
    "local.get $b\n",
    "if\n",
    "local.get $b\n",
    "if\n",
    "i32.const 0\n",
    "local.set $b\n",
    "i32.const 1\n",
    "call $write\n",
    "end\n",
    "br 1\n",
    "end\n",
    "end\n",
    ")\n",
    "(global $_memsize (mut i32) i32.const 0)\n",
    "(func $program\n",
    "(local $0 i32)\n",
    "i32.const 0\n",
    "if\n",
    "call $writeln\n",
    "else\n",
    "call $q\n",
    "end\n",
    ")\n",
    "(memory 1)\n",
    "(start $program)\n",
    ")\"\"\""
   ]
  },
  {
   "cell_type": "markdown",
   "source": [
    "### Quantified Expressions\n",
    "\n",
    "#### For all"
   ],
   "metadata": {
    "collapsed": false,
    "pycharm": {
     "name": "#%% md\n"
    }
   }
  },
  {
   "cell_type": "code",
   "execution_count": 43,
   "outputs": [
    {
     "name": "stdout",
     "output_type": "stream",
     "text": [
      "line 6 pos 31 '•' expected\n"
     ]
    }
   ],
   "source": [
    "assert \"'•' expected\" in compileerr(\"\"\"\n",
    "var a: [1..10] → integer\n",
    "var sorted: boolean\n",
    "var i: integer\n",
    "program p\n",
    "  sorted := all i ∈ 0 .. 7 then a[i] ≤ a[2]\n",
    "\"\"\")"
   ],
   "metadata": {
    "collapsed": false,
    "pycharm": {
     "name": "#%%\n"
    }
   }
  },
  {
   "cell_type": "code",
   "execution_count": 44,
   "outputs": [
    {
     "name": "stdout",
     "output_type": "stream",
     "text": [
      "line 6 pos 15 Iterator identifier expected\n"
     ]
    }
   ],
   "source": [
    "assert 'Iterator identifier expected' in compileerr(\"\"\"\n",
    "var a: [1..10] → integer\n",
    "var sorted: boolean\n",
    "var i: integer\n",
    "program p\n",
    "  sorted := ∀ ∈ 0 .. 7 • a[i] ≤ a[2]\n",
    "\"\"\")"
   ],
   "metadata": {
    "collapsed": false,
    "pycharm": {
     "name": "#%%\n"
    }
   }
  },
  {
   "cell_type": "code",
   "execution_count": 45,
   "outputs": [
    {
     "name": "stdout",
     "output_type": "stream",
     "text": [
      "line 6 pos 23 '∈' expected\n"
     ]
    }
   ],
   "source": [
    "assert \"'∈' expected\" in compileerr(\"\"\"\n",
    "var a: [1..10] → integer\n",
    "var sorted: boolean\n",
    "var i: integer\n",
    "program p\n",
    "  sorted := ∀ i element 0 .. 7 • a[i] ≤ a[2]\n",
    "\"\"\")"
   ],
   "metadata": {
    "collapsed": false,
    "pycharm": {
     "name": "#%%\n"
    }
   }
  },
  {
   "cell_type": "code",
   "execution_count": 46,
   "outputs": [
    {
     "name": "stdout",
     "output_type": "stream",
     "text": [
      "line 6 pos 24 '..' expected\n"
     ]
    }
   ],
   "source": [
    "assert \"'..' expected\" in compileerr(\"\"\"\n",
    "var a: [1..10] → integer\n",
    "var i: integer\n",
    "var found: boolean\n",
    "program p\n",
    "  found := some i ∈ 0 to 5 • a[i] = 4\n",
    "\"\"\")"
   ],
   "metadata": {
    "collapsed": false,
    "pycharm": {
     "name": "#%%\n"
    }
   }
  },
  {
   "cell_type": "markdown",
   "source": [
    "#### Exists"
   ],
   "metadata": {
    "collapsed": false,
    "pycharm": {
     "name": "#%% md\n"
    }
   }
  },
  {
   "cell_type": "code",
   "execution_count": 47,
   "outputs": [
    {
     "name": "stdout",
     "output_type": "stream",
     "text": [
      "line 6 pos 25 '•' expected\n"
     ]
    }
   ],
   "source": [
    "assert \"'•' expected\" in compileerr(\"\"\"\n",
    "var a: [1..10] → integer\n",
    "var i: integer\n",
    "var found: boolean\n",
    "program p\n",
    "  found := ∃ i ∈ 0 .. 6 ∃ a[i] = 3\n",
    "\"\"\")"
   ],
   "metadata": {
    "collapsed": false,
    "pycharm": {
     "name": "#%%\n"
    }
   }
  },
  {
   "cell_type": "markdown",
   "source": [
    "#### List Builder"
   ],
   "metadata": {
    "collapsed": false,
    "pycharm": {
     "name": "#%% md\n"
    }
   }
  },
  {
   "cell_type": "code",
   "execution_count": 48,
   "outputs": [
    {
     "name": "stdout",
     "output_type": "stream",
     "text": [
      "line 5 pos 36 corrupt list builder expression\n"
     ]
    }
   ],
   "source": [
    "assert 'corrupt list builder expression' in compileerr(\"\"\"\n",
    "var i: integer\n",
    "var squares: [1..10] → integer\n",
    "program p\n",
    "  squares := [i × i then i ∈ 0 .. 5]\n",
    "\"\"\")"
   ],
   "metadata": {
    "collapsed": false,
    "pycharm": {
     "name": "#%%\n"
    }
   }
  },
  {
   "cell_type": "code",
   "execution_count": 49,
   "outputs": [
    {
     "name": "stdout",
     "output_type": "stream",
     "text": [
      "line 5 pos 32 ']' expected\n"
     ]
    }
   ],
   "source": [
    "assert \"']' expected\" in compileerr(\"\"\"\n",
    "var i: integer\n",
    "var squares: [1..10] → integer\n",
    "program p\n",
    "  squares := [i ∈ 0 .. 5 • i × i\n",
    "\"\"\")"
   ],
   "metadata": {
    "collapsed": false,
    "pycharm": {
     "name": "#%%\n"
    }
   }
  },
  {
   "cell_type": "markdown",
   "source": [
    "#### Set Builder"
   ],
   "metadata": {
    "collapsed": false,
    "pycharm": {
     "name": "#%% md\n"
    }
   }
  },
  {
   "cell_type": "code",
   "execution_count": 51,
   "outputs": [
    {
     "name": "stdout",
     "output_type": "stream",
     "text": [
      "line 5 pos 38 '•' expected\n"
     ]
    }
   ],
   "source": [
    "assert \"'•' expected\" in compileerr(\"\"\"\n",
    "var i: integer\n",
    "var odds: integer\n",
    "program p\n",
    "  odds := {i ∈ 0 .. 5 | i mod 2 = 1 if i}\n",
    "\"\"\")"
   ],
   "metadata": {
    "collapsed": false,
    "pycharm": {
     "name": "#%%\n"
    }
   }
  },
  {
   "cell_type": "code",
   "execution_count": 52,
   "outputs": [
    {
     "name": "stdout",
     "output_type": "stream",
     "text": [
      "line 5 pos 32 'if' expected\n"
     ]
    }
   ],
   "source": [
    "assert \"'if' expected\" in compileerr(\"\"\"\n",
    "var i: integer\n",
    "var odds: integer\n",
    "program p\n",
    "  odds := {i for i ∈ 0 .. 5 then i mod 2 = 1}\n",
    "\"\"\")\n"
   ],
   "metadata": {
    "collapsed": false,
    "pycharm": {
     "name": "#%%\n"
    }
   }
  }
 ],
 "metadata": {
  "kernelspec": {
   "display_name": "Python 3",
   "language": "python",
   "name": "python3"
  },
  "language_info": {
   "codemirror_mode": {
    "name": "ipython",
    "version": 3
   },
   "file_extension": ".py",
   "mimetype": "text/x-python",
   "name": "python",
   "nbconvert_exporter": "python",
   "pygments_lexer": "ipython3",
   "version": "3.8.8"
  },
  "toc": {
   "base_numbering": 1,
   "nav_menu": {},
   "number_sections": false,
   "sideBar": false,
   "skip_h1_title": true,
   "title_cell": "Table of Contents",
   "title_sidebar": "Contents",
   "toc_cell": false,
   "toc_position": {},
   "toc_section_display": true,
   "toc_window_display": false
  }
 },
 "nbformat": 4,
 "nbformat_minor": 2
}