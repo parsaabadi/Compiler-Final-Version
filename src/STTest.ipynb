{
 "cells": [
  {
   "cell_type": "markdown",
   "metadata": {},
   "source": [
    "### P0 Symbol Table Tests"
   ]
  },
  {
   "cell_type": "markdown",
   "metadata": {},
   "source": [
    "**Emil Sekerinski, McMaster University, revised February 2022**"
   ]
  },
  {
   "cell_type": "code",
   "execution_count": null,
   "metadata": {},
   "outputs": [],
   "source": [
    "import nbimporter; nbimporter.options[\"only_defs\"] = False\n",
    "from P0 import compileString\n",
    "from ST import symTabStr"
   ]
  },
  {
   "cell_type": "markdown",
   "metadata": {},
   "source": [
    "Procedure `compileerr(s)` returns an empty string if compiling `s` succeeds or the error message produced while compiling; the error message is also printed. The procedure is used here to test the symbol table."
   ]
  },
  {
   "cell_type": "code",
   "execution_count": null,
   "metadata": {},
   "outputs": [],
   "source": [
    "def compileerr(s):\n",
    "    try: compileString(s); return ''\n",
    "    except Exception as e:\n",
    "        print(e); return str(e)"
   ]
  },
  {
   "cell_type": "markdown",
   "metadata": {},
   "source": [
    "#### Error: \"multiple definition\""
   ]
  },
  {
   "cell_type": "code",
   "execution_count": null,
   "metadata": {},
   "outputs": [],
   "source": [
    "assert \"multiple definition\" in compileerr(\"\"\"\n",
    "program p\n",
    "  const x = 9\n",
    "  var x : integer\n",
    "    x := 7\n",
    "\"\"\")"
   ]
  },
  {
   "cell_type": "markdown",
   "metadata": {},
   "source": [
    "#### Error: \"undefined identifier\""
   ]
  },
  {
   "cell_type": "code",
   "execution_count": null,
   "metadata": {},
   "outputs": [],
   "source": [
    "assert \"undefined identifier\" in compileerr(\"\"\"\n",
    "program p\n",
    "  var y: bool\n",
    "    y := true\n",
    "\"\"\")"
   ]
  },
  {
   "cell_type": "markdown",
   "metadata": {},
   "source": [
    "#### Symbol Table Dump"
   ]
  },
  {
   "cell_type": "code",
   "execution_count": null,
   "metadata": {},
   "outputs": [],
   "source": [
    "compileString(\"\"\"\n",
    "const N = 10\n",
    "type T =  [1 .. N] → integer\n",
    "var x: T\n",
    "var y: boolean\n",
    "var z: (f: integer, g: boolean)\n",
    "procedure q(v: boolean) → (r: integer)\n",
    "  var z: boolean\n",
    "    z := false\n",
    "program p\n",
    "  y := true\n",
    "\"\"\") # discard target code\n",
    "\n",
    "assert symTabStr() == \\\n",
    "[[\"Type(name = boolean, val = <class 'ST.Bool'>)\",\n",
    "  \"Type(name = integer, val = <class 'ST.Int'>)\",\n",
    "  \"Const(name = true, tp = <class 'ST.Bool'>, val = 1)\",\n",
    "  \"Const(name = false, tp = <class 'ST.Bool'>, val = 0)\",\n",
    "  \"StdProc(name = read, lev = 0, par = [], res = [Var(name = , lev = , tp = <class 'ST.Int'>)])\",\n",
    "  \"StdProc(name = write, lev = 0, par = [Var(name = , lev = , tp = <class 'ST.Int'>)], res = [])\",\n",
    "  'StdProc(name = writeln, lev = 0, par = [], res = [])',\n",
    "  \"Const(name = N, tp = <class 'ST.Int'>, val = 10)\",\n",
    "  \"Type(name = T, val = Array(lower = 1, length = 10, base = <class 'ST.Int'>))\", \"Var(name = x, lev = -3, tp = Array(lower = 1, length = 10, base = <class 'ST.Int'>))\", \"Var(name = y, lev = 0, tp = <class 'ST.Bool'>)\", \"Var(name = z, lev = -3, tp = Record(fields = [Var(name = f, lev = 1, tp = <class 'ST.Int'>), Var(name = g, lev = 1, tp = <class 'ST.Bool'>)]))\", \"Proc(name = q, lev = 0, par = [Var(name = v, lev = 1, tp = <class 'ST.Bool'>)], res = [Var(name = r, lev = 1, tp = <class 'ST.Int'>)])\"]]\n",
    "# [[\"Type(name = boolean, val = <class 'ST.Bool'>)\",\n",
    "#   \"Type(name = integer, val = <class 'ST.Int'>)\",\n",
    "#   \"Const(name = true, tp = <class 'ST.Bool'>, val = 1)\",\n",
    "#   \"Const(name = false, tp = <class 'ST.Bool'>, val = 0)\",\n",
    "#   \"StdProc(name = read, lev = 0, par = [], res = [Var(name = , lev = , tp = <class 'ST.Int'>)])\",\n",
    "#   \"StdProc(name = write, lev = 0, par = [Var(name = , lev = , tp = <class 'ST.Int'>)], res = [])\",\n",
    "#   'StdProc(name = writeln, lev = 0, par = [], res = [])',\n",
    "#   \"Const(name = N, tp = <class 'ST.Int'>, val = 10)\",\n",
    "#   \"Type(name = T, val = Array(lower = 1, length = 10, base = <class 'ST.Int'>))\",\n",
    "#   \"Var(name = x, lev = -2, tp = Array(lower = 1, length = 10, base = <class 'ST.Int'>))\",\n",
    "#   \"Var(name = y, lev = 0, tp = <class 'ST.Bool'>)\",\n",
    "#   \"Var(name = z, lev = -2, tp = Record(fields = [Var(name = f, lev = 1, tp = <class 'ST.Int'>), Var(name = g, lev = 1, tp = <class 'ST.Bool'>)]))\",\n",
    "#   \"Proc(name = q, lev = 0, par = [Var(name = v, lev = 1, tp = <class 'ST.Bool'>)], res = [Var(name = r, lev = 1, tp = <class 'ST.Int'>)])\"]]"
   ]
  }
 ],
 "metadata": {
  "kernelspec": {
   "display_name": "Python 3",
   "language": "python",
   "name": "python3"
  },
  "language_info": {
   "codemirror_mode": {
    "name": "ipython",
    "version": 3
   },
   "file_extension": ".py",
   "mimetype": "text/x-python",
   "name": "python",
   "nbconvert_exporter": "python",
   "pygments_lexer": "ipython3",
   "version": "3.8.8"
  },
  "toc": {
   "base_numbering": 1,
   "nav_menu": {},
   "number_sections": false,
   "sideBar": false,
   "skip_h1_title": true,
   "title_cell": "Table of Contents",
   "title_sidebar": "Contents",
   "toc_cell": false,
   "toc_position": {},
   "toc_section_display": true,
   "toc_window_display": false
  }
 },
 "nbformat": 4,
 "nbformat_minor": 2
}
