{
 "cells": [
  {
   "cell_type": "markdown",
   "metadata": {},
   "source": [
    "### P0 Type-Checking Tests"
   ]
  },
  {
   "cell_type": "markdown",
   "metadata": {},
   "source": [
    "**Emil Sekerinski, McMaster University, revised February 2022**"
   ]
  },
  {
   "cell_type": "code",
   "execution_count": null,
   "metadata": {},
   "outputs": [],
   "source": [
    "import nbimporter; nbimporter.options[\"only_defs\"] = False\n",
    "from P0 import compileString"
   ]
  },
  {
   "cell_type": "markdown",
   "metadata": {},
   "source": [
    "Procedure `compileerr(s)` returns an empty string if compiling `s` succeeds or the error message produced while compiling; the error message is also printed. The procedure is used here to test type-checking."
   ]
  },
  {
   "cell_type": "code",
   "execution_count": null,
   "metadata": {},
   "outputs": [],
   "source": [
    "def compileerr(s):\n",
    "    try: compileString(s); return ''\n",
    "    except Exception as e:\n",
    "        print(e); return str(e)"
   ]
  },
  {
   "cell_type": "markdown",
   "metadata": {},
   "source": [
    "#### Error \"index out of bounds\""
   ]
  },
  {
   "cell_type": "code",
   "execution_count": null,
   "metadata": {},
   "outputs": [],
   "source": [
    "assert \"index out of bounds\" in compileerr(\"\"\"\n",
    "var x: [5 .. 7] → integer\n",
    "program p\n",
    "  x[4] := 3\n",
    "\"\"\")"
   ]
  },
  {
   "cell_type": "markdown",
   "metadata": {},
   "source": [
    "#### Error \"index not integer\""
   ]
  },
  {
   "cell_type": "code",
   "execution_count": null,
   "metadata": {},
   "outputs": [],
   "source": [
    "assert \"index not integer\" in compileerr(\"\"\"\n",
    "var x: [5 .. 7] → integer\n",
    "program p\n",
    "  x[x] := 3\n",
    "\"\"\")"
   ]
  },
  {
   "cell_type": "markdown",
   "metadata": {},
   "source": [
    "#### Error \"not an array\""
   ]
  },
  {
   "cell_type": "code",
   "execution_count": null,
   "metadata": {},
   "outputs": [],
   "source": [
    "assert \"not an array\" in compileerr(\"\"\"\n",
    "program p\n",
    "  var x: integer\n",
    "    x[9] := 3\n",
    "\"\"\")"
   ]
  },
  {
   "cell_type": "markdown",
   "metadata": {},
   "source": [
    "#### Error \"not a field\""
   ]
  },
  {
   "cell_type": "code",
   "execution_count": null,
   "metadata": {},
   "outputs": [],
   "source": [
    "assert \"not a field\" in compileerr(\"\"\"\n",
    "var v: (f: integer)\n",
    "program p\n",
    "    v.g := 4\n",
    "\"\"\")"
   ]
  },
  {
   "cell_type": "markdown",
   "metadata": {},
   "source": [
    "#### Error \"not a record\""
   ]
  },
  {
   "cell_type": "code",
   "execution_count": null,
   "metadata": {},
   "outputs": [],
   "source": [
    "assert \"not a record\" in compileerr(\"\"\"\n",
    "program p\n",
    "  var v: integer\n",
    "    v.g := 4\n",
    "\"\"\")"
   ]
  },
  {
   "cell_type": "markdown",
   "metadata": {},
   "source": [
    "#### Error \"identifier expected\""
   ]
  },
  {
   "cell_type": "code",
   "execution_count": null,
   "metadata": {},
   "outputs": [],
   "source": [
    "assert \"identifier expected\" in compileerr(\"\"\"\n",
    "var v: (f: integer)\n",
    "program p\n",
    "    v.3 := 4\n",
    "\"\"\")"
   ]
  },
  {
   "cell_type": "markdown",
   "metadata": {},
   "source": [
    "#### Error \"variable or constant identifier expected\""
   ]
  },
  {
   "cell_type": "code",
   "execution_count": null,
   "metadata": {},
   "outputs": [],
   "source": [
    "assert \"variable or constant identifier expected\" in compileerr(\"\"\"\n",
    "program p\n",
    "  var x: integer\n",
    "    x := write\n",
    "\"\"\")"
   ]
  },
  {
   "cell_type": "markdown",
   "metadata": {},
   "source": [
    "#### Error \"not boolean\""
   ]
  },
  {
   "cell_type": "code",
   "execution_count": null,
   "metadata": {},
   "outputs": [],
   "source": [
    "assert \"not boolean\" in compileerr(\"\"\"\n",
    "program p\n",
    "  var b: boolean\n",
    "    b := ¬ 3\n",
    "\"\"\")"
   ]
  },
  {
   "cell_type": "markdown",
   "metadata": {},
   "source": [
    "#### Error \"bad type\""
   ]
  },
  {
   "cell_type": "code",
   "execution_count": null,
   "metadata": {},
   "outputs": [],
   "source": [
    "assert \"bad type\" in compileerr(\"\"\"\n",
    "program p\n",
    "  var b: boolean\n",
    "    b := 3 and true\n",
    "\"\"\")"
   ]
  },
  {
   "cell_type": "markdown",
   "metadata": {},
   "source": [
    "#### Error \"bad type\""
   ]
  },
  {
   "cell_type": "code",
   "execution_count": null,
   "metadata": {},
   "outputs": [],
   "source": [
    "assert \"bad type\" in compileerr(\"\"\"\n",
    "program p\n",
    "  var x: integer\n",
    "    x := - true\n",
    "\"\"\")"
   ]
  },
  {
   "cell_type": "markdown",
   "metadata": {},
   "source": [
    "#### Error \"bad type\""
   ]
  },
  {
   "cell_type": "code",
   "execution_count": null,
   "metadata": {},
   "outputs": [],
   "source": [
    "assert \"bad type\" in compileerr(\"\"\"\n",
    "program p\n",
    "  var x: integer\n",
    "    x := 3 + true\n",
    "\"\"\")"
   ]
  },
  {
   "cell_type": "markdown",
   "metadata": {},
   "source": [
    "#### Error \"bad type\""
   ]
  },
  {
   "cell_type": "code",
   "execution_count": null,
   "metadata": {},
   "outputs": [],
   "source": [
    "assert \"bad type\" in compileerr(\"\"\"\n",
    "program p\n",
    "  var b: boolean\n",
    "    b := 3 > true\n",
    "\"\"\")"
   ]
  },
  {
   "cell_type": "markdown",
   "metadata": {},
   "source": [
    "#### Error \"variable for result expected\""
   ]
  },
  {
   "cell_type": "code",
   "execution_count": null,
   "metadata": {},
   "outputs": [],
   "source": [
    "assert \"variable for result expected\" in compileerr(\"\"\"\n",
    "program p\n",
    "  read()\n",
    "\"\"\")"
   ]
  },
  {
   "cell_type": "markdown",
   "metadata": {},
   "source": [
    "#### Error \"variable identifier expected\""
   ]
  },
  {
   "cell_type": "code",
   "execution_count": null,
   "metadata": {},
   "outputs": [],
   "source": [
    "assert \"variable identifier expected\" in compileerr(\"\"\"\n",
    "program p\n",
    "  const c = 3\n",
    "  var x: integer\n",
    "    x, c := 5, 7\n",
    "\"\"\")"
   ]
  },
  {
   "cell_type": "markdown",
   "metadata": {},
   "source": [
    "#### Error \"duplicate variable identifier\""
   ]
  },
  {
   "cell_type": "code",
   "execution_count": null,
   "metadata": {},
   "outputs": [],
   "source": [
    "assert \"duplicate variable identifier\" in compileerr(\"\"\"\n",
    "program p\n",
    "  var x: integer\n",
    "    x, x := 5, 7\n",
    "\"\"\")"
   ]
  },
  {
   "cell_type": "markdown",
   "metadata": {},
   "source": [
    "#### Error \"incompatible assignment\""
   ]
  },
  {
   "cell_type": "code",
   "execution_count": null,
   "metadata": {},
   "outputs": [],
   "source": [
    "assert \"incompatible assignment\" in compileerr(\"\"\"\n",
    "program p\n",
    "  var b: boolean\n",
    "    b := 3\n",
    "\"\"\")"
   ]
  },
  {
   "cell_type": "markdown",
   "metadata": {},
   "source": [
    "#### Error \"unbalanced assignment\""
   ]
  },
  {
   "cell_type": "code",
   "execution_count": null,
   "metadata": {},
   "outputs": [],
   "source": [
    "assert \"unbalanced assignment\" in compileerr(\"\"\"\n",
    "program p\n",
    "  var b: boolean\n",
    "    b := true, false\n",
    "\"\"\")"
   ]
  },
  {
   "cell_type": "markdown",
   "metadata": {},
   "source": [
    "#### Error \"procedure identifier expected\""
   ]
  },
  {
   "cell_type": "code",
   "execution_count": null,
   "metadata": {},
   "outputs": [],
   "source": [
    "assert \"procedure identifier expected\" in compileerr(\"\"\"\n",
    "program p\n",
    "  var x: integer\n",
    "    x ← 3\n",
    "\"\"\")"
   ]
  },
  {
   "cell_type": "markdown",
   "metadata": {},
   "source": [
    "#### Error \"procedure expected\""
   ]
  },
  {
   "cell_type": "code",
   "execution_count": null,
   "metadata": {},
   "outputs": [],
   "source": [
    "assert \"procedure expected\" in compileerr(\"\"\"\n",
    "program p\n",
    "  var b: boolean\n",
    "    b ← true\n",
    "\"\"\")"
   ]
  },
  {
   "cell_type": "markdown",
   "metadata": {},
   "source": [
    "#### Error \"incompatible call\""
   ]
  },
  {
   "cell_type": "code",
   "execution_count": null,
   "metadata": {},
   "outputs": [],
   "source": [
    "assert \"incompatible call\" in compileerr(\"\"\"\n",
    "program p\n",
    "  var b: boolean\n",
    "    b ← read()\n",
    "\"\"\")"
   ]
  },
  {
   "cell_type": "markdown",
   "metadata": {},
   "source": [
    "#### Error \"unbalanced call\""
   ]
  },
  {
   "cell_type": "code",
   "execution_count": null,
   "metadata": {},
   "outputs": [],
   "source": [
    "assert \"unbalanced call\" in compileerr(\"\"\"\n",
    "procedure q()→(r, s: integer)\n",
    "  r, s := 3, 5\n",
    "program p\n",
    "  var x: integer\n",
    "    x ← q()\n",
    "\"\"\")"
   ]
  },
  {
   "cell_type": "markdown",
   "metadata": {},
   "source": [
    "#### Error \"procedure expected\""
   ]
  },
  {
   "cell_type": "code",
   "execution_count": null,
   "metadata": {},
   "outputs": [],
   "source": [
    "assert \"procedure expected\" in compileerr(\"\"\"\n",
    "program p\n",
    "  var b: boolean\n",
    "    b ← integer()\n",
    "\"\"\")"
   ]
  },
  {
   "cell_type": "markdown",
   "metadata": {},
   "source": [
    "#### Error \"variable or procedure expected\""
   ]
  },
  {
   "cell_type": "code",
   "execution_count": null,
   "metadata": {},
   "outputs": [],
   "source": [
    "assert \"variable or procedure expected\" in compileerr(\"\"\"\n",
    "program p\n",
    "  const c = 7\n",
    "    c := 4\n",
    "\"\"\")"
   ]
  },
  {
   "cell_type": "markdown",
   "metadata": {},
   "source": [
    "#### Error \"incompatible parameter\""
   ]
  },
  {
   "cell_type": "code",
   "execution_count": null,
   "metadata": {},
   "outputs": [],
   "source": [
    "assert \"incompatible parameter\" in compileerr(\"\"\"\n",
    "program p\n",
    "  write(true)\n",
    "\"\"\")"
   ]
  },
  {
   "cell_type": "markdown",
   "metadata": {},
   "source": [
    "#### Error \"extra parameter\""
   ]
  },
  {
   "cell_type": "code",
   "execution_count": null,
   "metadata": {},
   "outputs": [],
   "source": [
    "assert \"extra parameter\" in compileerr(\"\"\"\n",
    "program p\n",
    "  writeln(5)\n",
    "\"\"\")"
   ]
  },
  {
   "cell_type": "markdown",
   "metadata": {},
   "source": [
    "#### Error \"incompatible parameter\""
   ]
  },
  {
   "cell_type": "code",
   "execution_count": null,
   "metadata": {},
   "outputs": [],
   "source": [
    "assert \"incompatible parameter\" in compileerr(\"\"\"\n",
    "procedure q(x, y: integer)\n",
    "  writeln()\n",
    "program p\n",
    "  q(3, true)\n",
    "\"\"\")"
   ]
  },
  {
   "cell_type": "markdown",
   "metadata": {},
   "source": [
    "#### Error \"extra parameter\""
   ]
  },
  {
   "cell_type": "code",
   "execution_count": null,
   "metadata": {},
   "outputs": [],
   "source": [
    "assert \"extra parameter\" in compileerr(\"\"\"\n",
    "program p\n",
    "  write(5, 7)\n",
    "\"\"\")"
   ]
  },
  {
   "cell_type": "markdown",
   "metadata": {},
   "source": [
    "#### Error \"too few parameters\""
   ]
  },
  {
   "cell_type": "code",
   "execution_count": null,
   "metadata": {},
   "outputs": [],
   "source": [
    "assert \"too few parameters\" in compileerr(\"\"\"\n",
    "program p\n",
    "  write()\n",
    "\"\"\")"
   ]
  },
  {
   "cell_type": "markdown",
   "metadata": {},
   "source": [
    "#### Error \"boolean expected\""
   ]
  },
  {
   "cell_type": "code",
   "execution_count": null,
   "metadata": {},
   "outputs": [],
   "source": [
    "assert \"boolean expected\" in compileerr(\"\"\"\n",
    "program p\n",
    "  if 5 then writeln()\n",
    "\"\"\")"
   ]
  },
  {
   "cell_type": "markdown",
   "metadata": {},
   "source": [
    "#### Error \"boolean expected\""
   ]
  },
  {
   "cell_type": "code",
   "execution_count": null,
   "metadata": {},
   "outputs": [],
   "source": [
    "assert \"boolean expected\" in compileerr(\"\"\"\n",
    "program p\n",
    "  while 5 do writeln()\n",
    "\"\"\")"
   ]
  },
  {
   "cell_type": "markdown",
   "metadata": {},
   "source": [
    "#### Error \"type identifier expected\""
   ]
  },
  {
   "cell_type": "code",
   "execution_count": null,
   "metadata": {},
   "outputs": [],
   "source": [
    "assert \"type identifier expected\" in compileerr(\"\"\"\n",
    "type T = writeln\n",
    "program p\n",
    "  writeln()\n",
    "\"\"\")"
   ]
  },
  {
   "cell_type": "markdown",
   "metadata": {},
   "source": [
    "#### Error \"bad lower bound\""
   ]
  },
  {
   "cell_type": "code",
   "execution_count": null,
   "metadata": {},
   "outputs": [],
   "source": [
    "assert \"bad lower bound\" in compileerr(\"\"\"\n",
    "const l = -1\n",
    "const u = 5\n",
    "var a: [l .. u] → integer\n",
    "program p\n",
    "  writeln()\n",
    "\"\"\")"
   ]
  },
  {
   "cell_type": "markdown",
   "metadata": {},
   "source": [
    "#### Error \"bad upper bound\""
   ]
  },
  {
   "cell_type": "code",
   "execution_count": null,
   "metadata": {},
   "outputs": [],
   "source": [
    "assert \"bad upper bound\" in compileerr(\"\"\"\n",
    "const l = 7\n",
    "const u = 5\n",
    "var a: [l .. u] → integer\n",
    "program p\n",
    "  writeln()\n",
    "\"\"\")"
   ]
  },
  {
   "cell_type": "markdown",
   "metadata": {},
   "source": [
    "#### Error \"expression not constant\""
   ]
  },
  {
   "cell_type": "code",
   "execution_count": null,
   "metadata": {},
   "outputs": [],
   "source": [
    "assert \"expression not constant\" in compileerr(\"\"\"\n",
    "var v: integer\n",
    "program p\n",
    "  const c = v\n",
    "  writeln()\n",
    "\"\"\")"
   ]
  }
 ],
 "metadata": {
  "kernelspec": {
   "display_name": "Python 3",
   "language": "python",
   "name": "python3"
  },
  "language_info": {
   "codemirror_mode": {
    "name": "ipython",
    "version": 3
   },
   "file_extension": ".py",
   "mimetype": "text/x-python",
   "name": "python",
   "nbconvert_exporter": "python",
   "pygments_lexer": "ipython3",
   "version": "3.8.8"
  },
  "toc": {
   "base_numbering": 1,
   "nav_menu": {},
   "number_sections": false,
   "sideBar": false,
   "skip_h1_title": true,
   "title_cell": "Table of Contents",
   "title_sidebar": "Contents",
   "toc_cell": false,
   "toc_position": {},
   "toc_section_display": true,
   "toc_window_display": false
  }
 },
 "nbformat": 4,
 "nbformat_minor": 2
}