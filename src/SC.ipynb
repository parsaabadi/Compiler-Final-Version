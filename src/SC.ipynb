{
 "cells": [
  {
   "cell_type": "markdown",
   "metadata": {},
   "source": [
    "## P0 Scanner"
   ]
  },
  {
   "cell_type": "markdown",
   "metadata": {},
   "source": [
    "**Emil Sekerinski, McMaster University, revised February 2022**\n",
    "\n",
    "The scanner reads the characters of the source consecutively and recognizes symbols they form:\n",
    "- procedure `init(src)` initializes the scanner\n",
    "- procedure `getSym()` recognizes the next symbol and assigns it to variables `sym` and `val`.\n",
    "- procedure `mark(msg)` prints an error message at the current location in the source.\n",
    "\n",
    "Symbols are encoded by integer constants."
   ]
  },
  {
   "cell_type": "code",
   "execution_count": 9,
   "metadata": {},
   "outputs": [],
   "source": [
    "IDENT = 1; NUMBER = 2; TIMES = 3; DIV = 4; MOD = 5; PLUS = 6; MINUS = 7; AND = 8; OR = 9\n",
    "EQ = 10; NE = 11; LT = 12; GT = 13; LE = 14; GE = 15; SEMICOLON = 16; COMMA = 17\n",
    "COLON = 18; BECOMES = 19; PERIOD = 20; DOTDOT = 21; NOT = 22; LPAREN = 23; RPAREN = 24\n",
    "LBRAK = 25; RBRAK = 26; LBRACE = 27; RBRACE = 28; LARROW = 29; RARROW = 30; CARD = 31\n",
    "COMPLEMENT = 32; UNION = 33; INTERSECTION = 34; ELEMENT = 35; SUBSET = 36; SUPERSET = 37\n",
    "IF = 38; THEN = 39; ELSE = 40; WHILE = 41; DO = 42; CONST = 43; TYPE = 44; VAR = 45\n",
    "SET = 46; PROCEDURE = 47; PROGRAM = 48; INDENT = 49; DEDENT = 50; EOF = 51\n",
    "FORALL = 52; EXISTS = 53; PIPE = 54; DOT = 55; FOR = 56 #For symbol added, set to integer constant 56"
   ]
  },
  {
   "cell_type": "markdown",
   "metadata": {},
   "source": [
    "Following variables determine the state of the scanner:\n",
    "\n",
    "- `(line, pos)` is the location of the current symbol in source\n",
    "- `(lastline, lastpos)` is used to more accurately report errors\n",
    "- `ch` is the current character\n",
    "- `sym` the current symbol, `TIMES` ... `EOF` or `None`\n",
    "- if `sym` is `NUMBER`, `val` is the value of the number\n",
    "- if `sym` is `IDENT`, `val` is the identifier string\n",
    "- `source` is the string with the source program\n",
    "- `index` is the index of the next character in `source`\n",
    "- `indents` is a stack with indentations\n",
    "- `newline` is a boolean indicating the start of a line\n",
    "\n",
    "The source is specified as a parameter to the procedure `init`:"
   ]
  },
  {
   "cell_type": "code",
   "execution_count": null,
   "metadata": {},
   "outputs": [],
   "source": [
    "def init(src):\n",
    "    global line, lastline, pos, lastpos\n",
    "    global ch, sym, val, source, index, indents\n",
    "    line, lastline = 0, 1\n",
    "    pos, lastpos = 1, 1\n",
    "    ch, sym, val, source, index = '\\n', None, None, src, 0\n",
    "    indents = [1]; getChar(); getSym()"
   ]
  },
  {
   "cell_type": "markdown",
   "metadata": {},
   "source": [
    "Procedure `getChar()` assigns the next character in `ch`, or assigns `chr(0)` at the end of the source. Variables `line`, `pos` are updated with the current location in the source and `lastline`, `lastpos` are updated with the location of the previously read character."
   ]
  },
  {
   "cell_type": "code",
   "execution_count": null,
   "metadata": {},
   "outputs": [],
   "source": [
    "def getChar():\n",
    "    global line, lastline, pos, lastpos, ch, index\n",
    "    if index == len(source): ch, index, pos = chr(0), index + 1, 1\n",
    "    else:\n",
    "        lastpos = pos\n",
    "        if ch == '\\n':\n",
    "            pos, line = 1, line + 1\n",
    "        else:\n",
    "            lastline, pos = line, pos + 1\n",
    "        ch, index = source[index], index + 1"
   ]
  },
  {
   "cell_type": "markdown",
   "metadata": {},
   "source": [
    "Procedure `mark(msg)` prints an error message with the current location in the source. To avoid a cascade of errors, only one error message at a source location is printed and compilation stops."
   ]
  },
  {
   "cell_type": "code",
   "execution_count": null,
   "metadata": {},
   "outputs": [],
   "source": [
    "def mark(msg):\n",
    "    raise Exception('line ' + str(lastline) + ' pos ' + str(lastpos) + ' ' + msg)"
   ]
  },
  {
   "cell_type": "markdown",
   "metadata": {},
   "source": [
    "Procedure `number()` parses\n",
    "\n",
    "    number ::= digit {digit}\n",
    "    digit ::= '0' | ... | '9'\n",
    "\n",
    "If the number fits in 32 bits, sets `sym` to `NUMBER` and assigns to number to `val`, otherwise reports an error."
   ]
  },
  {
   "cell_type": "code",
   "execution_count": null,
   "metadata": {
    "code_folding": []
   },
   "outputs": [],
   "source": [
    "def number():\n",
    "    global sym, val\n",
    "    sym, val = NUMBER, 0\n",
    "    while '0' <= ch <= '9':\n",
    "        val = 10 * val + int(ch)\n",
    "        getChar()\n",
    "    if val >= 2**31: mark('number too large')"
   ]
  },
  {
   "cell_type": "markdown",
   "metadata": {},
   "source": [
    "Procedure `identKW()` parses\n",
    "\n",
    "    identKW ::= keyword / identifier\n",
    "    identifier ::= letter {letter | digit}\n",
    "    letter ::= 'A' | ... | 'Z' | 'a' | ... | 'z'\n",
    "    keyword ::= 'div' | 'mod' | 'and' | 'or' | 'if' | 'then' | 'else' | 'while' | 'do' | 'const' | 'type' | 'var' | \n",
    "                         'set' | 'procedure' | 'program' | 'all' | 'for' | 'some'\n",
    "\n",
    "The longest sequence of character that matches `letter {letter | digit}` is read. If that sequence is a keyword, `sym` is set accordingly, otherwise `sym` is set to `IDENT`."
   ]
  },
  {
   "cell_type": "code",
   "execution_count": null,
   "metadata": {},
   "outputs": [],
   "source": [
    "KEYWORDS = \\\n",
    "    {'div': DIV, 'mod': MOD, 'and': AND, 'or': OR, 'if': IF, 'then': THEN,\n",
    "     'else': ELSE, 'while': WHILE, 'do': DO, 'const': CONST, 'type': TYPE,\n",
    "     'var': VAR, 'set': SET, 'procedure': PROCEDURE, 'program': PROGRAM,\n",
    "     'all': FORALL, 'for': FOR, 'some': EXISTS}\n",
    "\n",
    "def identKW():\n",
    "    global sym, val\n",
    "    start = index - 1\n",
    "    while ('A' <= ch <= 'Z') or ('a' <= ch <= 'z') or \\\n",
    "          ('0' <= ch <= '9'): getChar()\n",
    "    val = source[start : index - 1]\n",
    "    sym = KEYWORDS[val] if val in KEYWORDS else IDENT"
   ]
  },
  {
   "cell_type": "markdown",
   "metadata": {},
   "source": [
    "Procedure `comment()` parses\n",
    "\n",
    "    comment ::= '//' {character – '\\n'}\n",
    "    \n",
    "A comment is skipped over."
   ]
  },
  {
   "cell_type": "code",
   "execution_count": null,
   "metadata": {},
   "outputs": [],
   "source": [
    "def comment():\n",
    "    if ch == '/': getChar()\n",
    "    else: mark('// expected')\n",
    "    while chr(0) != ch != '\\n': getChar()"
   ]
  },
  {
   "cell_type": "markdown",
   "metadata": {},
   "source": [
    "Procedure `getSym()` parses\n",
    "\n",
    "    symbol ::= { ' ' | comment} ( { '\\n' {' ' | comment} } | identKW | number | '×' | '+' | '-' |\n",
    "                        '=' | '≠' | '<' | '≤' | '>' | '≥' | ';' | ',' | ':' | ':=' | '.' | '¬' | '(' |  ')' | '[' | ']' |\n",
    "                        '←' | '→' | '{' | '}' | '#' | '∁' | '∪' | '∩' | '∈' | '⊆' | '⊇' | '∀' | '∃' | '|' | '•')\n",
    "\n",
    "If a valid symbol is recognized, `sym` is set accordingly, otherwise an error is reported. The longest match is used for recognizing operators. Blanks that are not at the beginning of a line are skipped. A stack, `indents`, is used to keep track if blanks at the beginning of a line are either ignored or recognized as `INDENT` or `DEDENT`. On the first symbol of a line, `newline` is set to `True` if the indentation is the same as that of the previous line; for all subsequent symbols, `newline` is set to `False`. At the end of the source, `sym` is set to `EOF`."
   ]
  },
  {
   "cell_type": "code",
   "execution_count": null,
   "metadata": {},
   "outputs": [],
   "source": [
    "def getSym():\n",
    "    global sym, indents, newline\n",
    "    if pos < indents[0]:\n",
    "        indents = indents[1:]; sym = DEDENT\n",
    "    else:\n",
    "        while ch in ' /':\n",
    "            if ch == ' ': getChar() # skip blanks between symbols\n",
    "            else: comment()\n",
    "        if ch == '\\n': # possibly INDENT, DEDENT\n",
    "            while ch == '\\n': # skip blank lines\n",
    "                getChar()\n",
    "                while ch in ' /':\n",
    "                    if ch == ' ': getChar() # skip indentation\n",
    "                    else: comment()\n",
    "            if pos < indents[0]: sym, indents = DEDENT, indents[1:]; return\n",
    "            elif pos > indents[0]: sym, indents = INDENT, [pos] + indents; return\n",
    "        newline = pos == indents[0]\n",
    "        if 'A' <= ch <= 'Z' or 'a' <= ch <= 'z': identKW()\n",
    "        elif '0' <= ch <= '9': number()\n",
    "        elif ch == '×': getChar(); sym = TIMES\n",
    "        elif ch == '+': getChar(); sym = PLUS\n",
    "        elif ch == '-': getChar(); sym = MINUS\n",
    "        elif ch == '=': getChar(); sym = EQ\n",
    "        elif ch == '≠': getChar(); sym = NE\n",
    "        elif ch == '<': getChar(); sym = LT\n",
    "        elif ch == '≤': getChar(); sym = LE\n",
    "        elif ch == '>': getChar(); sym = GT\n",
    "        elif ch == '≥': getChar(); sym = GE\n",
    "        elif ch == ';': getChar(); sym = SEMICOLON\n",
    "        elif ch == ',': getChar(); sym = COMMA\n",
    "        elif ch == ':':\n",
    "            getChar()\n",
    "            if ch == '=': getChar(); sym = BECOMES\n",
    "            else: sym = COLON\n",
    "        elif ch == '.':\n",
    "            getChar()\n",
    "            if ch == '.': getChar(); sym = DOTDOT\n",
    "            else: sym = PERIOD\n",
    "        elif ch == '¬': getChar(); sym = NOT\n",
    "        elif ch == '(': getChar(); sym = LPAREN\n",
    "        elif ch == ')': getChar(); sym = RPAREN\n",
    "        elif ch == '[': getChar(); sym = LBRAK\n",
    "        elif ch == ']': getChar(); sym = RBRAK\n",
    "        elif ch == '{': getChar(); sym = LBRACE\n",
    "            \n",
    "        elif ch == '}': getChar(); sym = RBRACE\n",
    "        elif ch == '←': getChar(); sym = LARROW\n",
    "        elif ch == '→': getChar(); sym = RARROW\n",
    "        elif ch == '#': getChar(); sym = CARD\n",
    "        elif ch == '∁': getChar(); sym = COMPLEMENT\n",
    "        elif ch == '∪': getChar(); sym = UNION\n",
    "        elif ch == '∩': getChar(); sym = INTERSECTION\n",
    "        elif ch == '∈': getChar(); sym = ELEMENT\n",
    "        elif ch == '⊆': getChar(); sym = SUBSET\n",
    "        elif ch == '⊇': getChar(); sym = SUPERSET\n",
    "        elif ch == '∀': getChar(); sym = FORALL\n",
    "        elif ch == '∃': getChar(); sym = EXISTS\n",
    "        elif ch == '|': getChar(); sym = PIPE\n",
    "        elif ch == '•': getChar(); sym = DOT\n",
    "        elif ch == chr(0): sym = EOF\n",
    "        else: mark('illegal character')\n",
    "        "
   ]
  }
 ],
 "metadata": {
  "kernelspec": {
   "display_name": "Python 3 (ipykernel)",
   "language": "python",
   "name": "python3"
  },
  "language_info": {
   "codemirror_mode": {
    "name": "ipython",
    "version": 3
   },
   "file_extension": ".py",
   "mimetype": "text/x-python",
   "name": "python",
   "nbconvert_exporter": "python",
   "pygments_lexer": "ipython3",
   "version": "3.8.10"
  },
  "toc": {
   "base_numbering": 1,
   "nav_menu": {},
   "number_sections": false,
   "sideBar": false,
   "skip_h1_title": true,
   "title_cell": "Table of Contents",
   "title_sidebar": "Contents",
   "toc_cell": false,
   "toc_position": {},
   "toc_section_display": true,
   "toc_window_display": false
  }
 },
 "nbformat": 4,
 "nbformat_minor": 2
}