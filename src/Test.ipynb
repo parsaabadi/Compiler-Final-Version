{
 "cells": [
  {
   "cell_type": "code",
   "execution_count": 1,
   "metadata": {},
   "outputs": [],
   "source": [
    "import nbimporter; nbimporter.options[\"only_defs\"] = False\n",
    "from P0 import compileString\n",
    "\n",
    "def runpywasm(wasmfile):\n",
    "    import pywasm\n",
    "    def write(s, i): print(i)\n",
    "    def writeln(s): print('\\n')\n",
    "    def read(s): return int(input())\n",
    "    vm = pywasm.load(wasmfile, {'P0lib': {'write': write, 'writeln': writeln, 'read': read}})"
   ]
  },
  {
   "cell_type": "code",
   "execution_count": 3,
   "metadata": {},
   "outputs": [],
   "source": [
    "def runwasm(wasmfile):\n",
    "    from IPython.core.display import display, Javascript\n",
    "    display(Javascript(\"\"\"\n",
    "    const params = { \n",
    "        P0lib: { \n",
    "            write: i => this.append_stream({text: '' + i, name: 'stdout'}),\n",
    "            writeln: () => this.append_stream({text: '\\\\n', name: 'stdout'}),\n",
    "            read: () => window.prompt()\n",
    "        }\n",
    "    }\n",
    "\n",
    "    fetch('\"\"\" + wasmfile + \"\"\"') // asynchronously fetch file, return Response object\n",
    "      .then(response => response.arrayBuffer()) // read the response to completion and stores it in an ArrayBuffer\n",
    "      .then(code => WebAssembly.compile(code)) // compile (sharable) code.wasm\n",
    "      .then(module => WebAssembly.instantiate(module, params)) // create an instance with memory\n",
    "    // .then(instance => instance.exports.program()); // run the main program; not needed if start function specified\n",
    "    \"\"\"))"
   ]
  },
  {
   "cell_type": "code",
   "execution_count": 6,
   "metadata": {},
   "outputs": [
    {
     "ename": "ImportError",
     "evalue": "Wasmer is not available on this system",
     "output_type": "error",
     "traceback": [
      "\u001B[0;31m---------------------------------------------------------------------------\u001B[0m",
      "\u001B[0;31mImportError\u001B[0m                               Traceback (most recent call last)",
      "\u001B[0;32m/tmp/ipykernel_123840/641042128.py\u001B[0m in \u001B[0;36m<module>\u001B[0;34m\u001B[0m\n\u001B[0;32m----> 1\u001B[0;31m \u001B[0;32mfrom\u001B[0m \u001B[0mwasmer\u001B[0m \u001B[0;32mimport\u001B[0m \u001B[0mengine\u001B[0m\u001B[0;34m,\u001B[0m \u001B[0mStore\u001B[0m\u001B[0;34m,\u001B[0m \u001B[0mModule\u001B[0m\u001B[0;34m,\u001B[0m \u001B[0mInstance\u001B[0m\u001B[0;34m,\u001B[0m \u001B[0mImportObject\u001B[0m\u001B[0;34m,\u001B[0m \u001B[0mFunction\u001B[0m\u001B[0;34m\u001B[0m\u001B[0;34m\u001B[0m\u001B[0m\n\u001B[0m\u001B[1;32m      2\u001B[0m \u001B[0;32mfrom\u001B[0m \u001B[0mwasmer_compiler_cranelift\u001B[0m \u001B[0;32mimport\u001B[0m \u001B[0mCompiler\u001B[0m\u001B[0;34m\u001B[0m\u001B[0;34m\u001B[0m\u001B[0m\n\u001B[1;32m      3\u001B[0m \u001B[0;34m\u001B[0m\u001B[0m\n\u001B[1;32m      4\u001B[0m \u001B[0;32mdef\u001B[0m \u001B[0mrunwasmer\u001B[0m\u001B[0;34m(\u001B[0m\u001B[0mwasmfile\u001B[0m\u001B[0;34m)\u001B[0m\u001B[0;34m:\u001B[0m\u001B[0;34m\u001B[0m\u001B[0;34m\u001B[0m\u001B[0m\n\u001B[1;32m      5\u001B[0m     \u001B[0;32mdef\u001B[0m \u001B[0mwrite\u001B[0m\u001B[0;34m(\u001B[0m\u001B[0mi\u001B[0m\u001B[0;34m:\u001B[0m \u001B[0mint\u001B[0m\u001B[0;34m)\u001B[0m\u001B[0;34m:\u001B[0m \u001B[0mprint\u001B[0m\u001B[0;34m(\u001B[0m\u001B[0mi\u001B[0m\u001B[0;34m)\u001B[0m\u001B[0;34m\u001B[0m\u001B[0;34m\u001B[0m\u001B[0m\n",
      "\u001B[0;32m~/.local/lib/python3.8/site-packages/wasmer/__init__.py\u001B[0m in \u001B[0;36m<module>\u001B[0;34m\u001B[0m\n\u001B[0;32m----> 1\u001B[0;31m \u001B[0;32mraise\u001B[0m \u001B[0mImportError\u001B[0m\u001B[0;34m(\u001B[0m\u001B[0;34m\"Wasmer is not available on this system\"\u001B[0m\u001B[0;34m)\u001B[0m\u001B[0;34m\u001B[0m\u001B[0;34m\u001B[0m\u001B[0m\n\u001B[0m",
      "\u001B[0;31mImportError\u001B[0m: Wasmer is not available on this system"
     ]
    }
   ],
   "source": [
    "from wasmer import engine, Store, Module, Instance, ImportObject, Function\n",
    "from wasmer_compiler_cranelift import Compiler\n",
    "\n",
    "def runwasmer(wasmfile):\n",
    "    def write(i: int): print(i)\n",
    "    def writeln(): print('\\n')\n",
    "    def read() -> int: return int(input()) \n",
    "    store = Store(engine.JIT(Compiler))\n",
    "    module = Module(store, open(wasmfile, 'rb').read())\n",
    "    import_object = ImportObject()\n",
    "    import_object.register(\"P0lib\", {\"write\": Function(store, write),\n",
    "                                     \"writeln\": Function(store, writeln),\"read\": Function(store, read)})\n",
    "    instance = Instance(module, import_object)"
   ]
  },
  {
   "cell_type": "code",
   "execution_count": 2,
   "metadata": {},
   "outputs": [],
   "source": [
    "compileString(\"\"\"\n",
    "type Arr = [0 .. 5] → integer\n",
    "type Set = set[0..5]\n",
    "program repeatprimes\n",
    "    var sorted:boolean\n",
    "    var i:integer\n",
    "    var a:Arr\n",
    "        a[0] := 1\n",
    "        a[1] := 2\n",
    "        a[2] := 3\n",
    "        a[3] := 4\n",
    "        a[4] := 5\n",
    "        a[5] := 6\n",
    "        a := [2 × 2 for i ∈ 0 .. 5]\n",
    "        write(a[0])\n",
    "        write(a[1])\n",
    "        write(a[2])\n",
    "        write(a[3])\n",
    "        write(a[4])\n",
    "        write(a[5])  \n",
    "        \n",
    "\n",
    "\"\"\", 'test.wat', target = 'wat')"
   ]
  },
  {
   "cell_type": "code",
   "execution_count": 3,
   "metadata": {},
   "outputs": [
    {
     "name": "stdout",
     "output_type": "stream",
     "text": [
      "\u001B[1mtest.wat:103:1: \u001B[31merror: \u001B[0mopcode not allowed: memory.copy\n",
      "memory.copy\n",
      "\u001B[1m\u001B[32m^^^^^^^^^^^\u001B[0m\n"
     ]
    },
    {
     "ename": "NameError",
     "evalue": "name 'runwasm' is not defined",
     "output_type": "error",
     "traceback": [
      "\u001B[0;31m---------------------------------------------------------------------------\u001B[0m",
      "\u001B[0;31mNameError\u001B[0m                                 Traceback (most recent call last)",
      "\u001B[0;32m/tmp/ipykernel_130263/2139997236.py\u001B[0m in \u001B[0;36m<module>\u001B[0;34m\u001B[0m\n\u001B[1;32m      1\u001B[0m \u001B[0mget_ipython\u001B[0m\u001B[0;34m(\u001B[0m\u001B[0;34m)\u001B[0m\u001B[0;34m.\u001B[0m\u001B[0msystem\u001B[0m\u001B[0;34m(\u001B[0m\u001B[0;34m'wat2wasm test.wat'\u001B[0m\u001B[0;34m)\u001B[0m\u001B[0;34m\u001B[0m\u001B[0;34m\u001B[0m\u001B[0m\n\u001B[0;32m----> 2\u001B[0;31m \u001B[0mrunwasm\u001B[0m\u001B[0;34m(\u001B[0m\u001B[0;34m\"test.wasm\"\u001B[0m\u001B[0;34m)\u001B[0m\u001B[0;34m\u001B[0m\u001B[0;34m\u001B[0m\u001B[0m\n\u001B[0m",
      "\u001B[0;31mNameError\u001B[0m: name 'runwasm' is not defined"
     ]
    }
   ],
   "source": [
    "!wat2wasm test.wat\n",
    "runwasm(\"test.wasm\")"
   ]
  },
  {
   "cell_type": "markdown",
   "metadata": {},
   "source": [
    "Example of what needs to be compield:\n",
    "        a[0] := 1\n",
    "        a[1] := 2\n",
    "        a[2] := 3\n",
    "        a[3] := 4\n",
    "        a[4] := 5\n",
    "        a[5] := 6\n",
    "        sorted := some i ∈ 0 .. 4 • a[i] = 6\n",
    "\n",
    "        a := [i ∈ 0 .. 5 • i × i]\n",
    "\n",
    "a := {i for i ∈ 0 .. 5 if i mod 2 = 1} \n",
    "b := {i ∈ 0 .. 5 | i mod 2 = 1 • i} \n",
    "\n",
    "\n",
    "        a[0] := 7\n",
    "        a[1] := 8\n",
    "        a[2] := 9\n",
    "        a[3] := 10\n",
    "        a[4] := 11\n",
    "        a[5] := 12\n",
    "        a := [i ∈ 0 .. 5 • i × i]\n",
    "        write(a[0])\n",
    "        write(a[1])\n",
    "        write(a[2])\n",
    "        write(a[3])\n",
    "        write(a[4])\n",
    "        write(a[5])  "
   ]
  },
  {
   "cell_type": "code",
   "execution_count": 4,
   "metadata": {},
   "outputs": [
    {
     "name": "stdout",
     "output_type": "stream",
     "text": [
      "(module\n",
      "(import \"P0lib\" \"write\" (func $write (param i32)))\n",
      "(import \"P0lib\" \"writeln\" (func $writeln))\n",
      "(import \"P0lib\" \"read\" (func $read (result i32)))\n",
      "(global $_memsize (mut i32) i32.const 0)\n",
      "(func $program\n",
      "(local $sorted i32)\n",
      "(local $i i32)\n",
      "(local $a i32)\n",
      "(local $b i32)\n",
      "(local $0 i32)\n",
      "(local $_fp i32)\n",
      "global.get $_memsize\n",
      "local.set $_fp\n",
      "global.get $_memsize\n",
      "local.tee $a\n",
      "i32.const 24\n",
      "i32.add\n",
      "global.set $_memsize\n",
      "global.get $_memsize\n",
      "local.tee $b\n",
      "i32.const 24\n",
      "i32.add\n",
      "global.set $_memsize\n",
      "local.get $a\n",
      "local.get $b\n",
      "i32.const 24\n",
      "memory.copy\n",
      "local.get $_fp\n",
      "global.set $_memsize\n",
      ")\n",
      "(memory 1)\n",
      "(start $program)\n",
      ")"
     ]
    }
   ],
   "source": [
    "!cat test.wat #This is for printing text output of wat file"
   ]
  }
 ],
 "metadata": {
  "interpreter": {
   "hash": "31f2aee4e71d21fbe5cf8b01ff0e069b9275f58929596ceb00d14d90e3e16cd6"
  },
  "kernelspec": {
   "display_name": "Python 3",
   "language": "python",
   "name": "python3"
  },
  "language_info": {
   "codemirror_mode": {
    "name": "ipython",
    "version": 3
   },
   "file_extension": ".py",
   "mimetype": "text/x-python",
   "name": "python",
   "nbconvert_exporter": "python",
   "pygments_lexer": "ipython3",
   "version": "3.8.10"
  }
 },
 "nbformat": 4,
 "nbformat_minor": 2
}