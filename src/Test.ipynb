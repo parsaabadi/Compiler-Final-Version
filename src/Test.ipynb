{
 "cells": [
  {
   "cell_type": "code",
   "execution_count": 1,
   "metadata": {},
   "outputs": [],
   "source": [
    "import nbimporter; nbimporter.options[\"only_defs\"] = False\n",
    "from P0 import compileString\n",
    "\n",
    "def runpywasm(wasmfile):\n",
    "    import pywasm\n",
    "    def write(s, i): print(i)\n",
    "    def writeln(s): print('\\n')\n",
    "    def read(s): return int(input())\n",
    "    vm = pywasm.load(wasmfile, {'P0lib': {'write': write, 'writeln': writeln, 'read': read}})"
   ]
  },
  {
   "cell_type": "code",
   "execution_count": 4,
   "metadata": {},
   "outputs": [],
   "source": [
    "compileString(\"\"\"\n",
    "type Arr = [0 .. 5] → integer\n",
    "type Set = set[0..5]\n",
    "program repeatprimes\n",
    "    var sorted:boolean\n",
    "    var i:integer\n",
    "    var a:Set\n",
    "        a := {i ∈ 0 .. 5 | i mod 2 = 1 • i + 1} \n",
    "\n",
    "\"\"\", 'test.wat', target = 'wat')"
   ]
  },
  {
   "cell_type": "code",
   "execution_count": 5,
   "metadata": {},
   "outputs": [
    {
     "name": "stdout",
     "output_type": "stream",
     "text": [
      "84\n"
     ]
    }
   ],
   "source": [
    "!wat2wasm test.wat\n",
    "runpywasm(\"test.wasm\")"
   ]
  },
  {
   "cell_type": "markdown",
   "metadata": {},
   "source": [
    "Example of what needs to be compield:\n",
    "        a[0] := 1\n",
    "        a[1] := 2\n",
    "        a[2] := 3\n",
    "        a[3] := 4\n",
    "        a[4] := 5\n",
    "        a[5] := 6\n",
    "        sorted := some i ∈ 0 .. 4 • a[i] = 6\n",
    "\n",
    "[i × i for i ∈ 0 .. 5]\n",
    "\n",
    "a := {i for i ∈ 0 .. 5 if i mod 2 = 1} \n",
    "b := {i ∈ 0 .. 5 | i mod 2 = 1 • i} "
   ]
  },
  {
   "cell_type": "code",
   "execution_count": 4,
   "metadata": {},
   "outputs": [
    {
     "name": "stdout",
     "output_type": "stream",
     "text": [
      "(module\n",
      "(import \"P0lib\" \"write\" (func $write (param i32)))\n",
      "(import \"P0lib\" \"writeln\" (func $writeln))\n",
      "(import \"P0lib\" \"read\" (func $read (result i32)))\n",
      "(global $_memsize (mut i32) i32.const 0)\n",
      "(func $program\n",
      "(local $sorted i32)\n",
      "(local $i i32)\n",
      "(local $a i32)\n",
      "(local $0 i32)\n",
      "(local $_fp i32)\n",
      "global.get $_memsize\n",
      "local.set $_fp\n",
      "global.get $_memsize\n",
      "i32.const 16\n",
      "i32.add\n",
      "local.tee $a\n",
      "global.set $_memsize\n",
      "i32.const 0\n",
      "i32.const 4\n",
      "i32.mul\n",
      "local.get $a\n",
      "i32.add\n",
      "i32.const 1\n",
      "i32.store\n",
      "i32.const 1\n",
      "i32.const 4\n",
      "i32.mul\n",
      "local.get $a\n",
      "i32.add\n",
      "i32.const 2\n",
      "i32.store\n",
      "i32.const 2\n",
      "i32.const 4\n",
      "i32.mul\n",
      "local.get $a\n",
      "i32.add\n",
      "i32.const 3\n",
      "i32.store\n",
      "i32.const 3\n",
      "i32.const 4\n",
      "i32.mul\n",
      "local.get $a\n",
      "i32.add\n",
      "i32.const 4\n",
      "i32.store\n",
      "global.get $_memsize\n",
      "i32.const 4\n",
      "i32.add\n",
      "global.set $_memsize\n",
      "i32.const 0\n",
      "local.set $i\n",
      "global.get $_memsize\n",
      "i32.const 1\n",
      "i32.store\n",
      "loop $i_loop\n",
      "local.get $i\n",
      "i32.const 3\n",
      "i32.le_s\n",
      "if\n",
      "global.get $_memsize\n",
      "local.get $i\n",
      "i32.const 4\n",
      "i32.mul\n",
      "local.get $a\n",
      "i32.add\n",
      "local.get $i\n",
      "i32.const 1\n",
      "i32.add\n",
      "i32.const 4\n",
      "i32.mul\n",
      "local.get $a\n",
      "i32.add\n",
      "i32.load\n",
      "i32.load\n",
      "i32.le_s\n",
      "global.get $_memsize\n",
      "i32.load\n",
      "i32.and\n",
      "i32.store\n",
      "local.get $i\n",
      "i32.const 4\n",
      "i32.mul\n",
      "local.get $a\n",
      "i32.add\n",
      "i32.load\n",
      "call $write\n",
      "local.get $i\n",
      "i32.const 1\n",
      "i32.add\n",
      "local.set $i\n",
      "br $i_loop\n",
      "end\n",
      "end\n",
      "global.get $_memsize\n",
      "i32.load\n",
      "call $write\n",
      "global.get $_memsize\n",
      "i32.load\n",
      "global.get $_memsize\n",
      "i32.const 4\n",
      "i32.sub\n",
      "global.set $_memsize\n",
      "local.set $sorted\n",
      "local.get $_fp\n",
      "global.set $_memsize\n",
      ")\n",
      "(memory 1)\n",
      "(start $program)\n",
      ")"
     ]
    }
   ],
   "source": [
    "!cat test.wat #This is for printing text output of wat file"
   ]
  }
 ],
 "metadata": {
  "interpreter": {
   "hash": "31f2aee4e71d21fbe5cf8b01ff0e069b9275f58929596ceb00d14d90e3e16cd6"
  },
  "kernelspec": {
   "display_name": "Python 3.8.10 64-bit",
   "language": "python",
   "name": "python3"
  },
  "language_info": {
   "codemirror_mode": {
    "name": "ipython",
    "version": 3
   },
   "file_extension": ".py",
   "mimetype": "text/x-python",
   "name": "python",
   "nbconvert_exporter": "python",
   "pygments_lexer": "ipython3",
   "version": "3.8.10"
  },
  "orig_nbformat": 4
 },
 "nbformat": 4,
 "nbformat_minor": 2
}
