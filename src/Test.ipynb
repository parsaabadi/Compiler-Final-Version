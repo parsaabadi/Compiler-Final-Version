{
 "cells": [
  {
   "cell_type": "code",
   "execution_count": 1,
   "metadata": {},
   "outputs": [],
   "source": [
    "import nbimporter; nbimporter.options[\"only_defs\"] = False\n",
    "from P0 import compileString\n",
    "\n",
    "def runpywasm(wasmfile):\n",
    "    import pywasm\n",
    "    def write(s, i): print(i)\n",
    "    def writeln(s): print('\\n')\n",
    "    def read(s): return int(input())\n",
    "    vm = pywasm.load(wasmfile, {'P0lib': {'write': write, 'writeln': writeln, 'read': read}})"
   ]
  },
  {
   "cell_type": "code",
   "execution_count": 2,
   "metadata": {},
   "outputs": [
    {
     "ename": "Exception",
     "evalue": "line 13 pos 30 illegal character",
     "output_type": "error",
     "traceback": [
      "\u001b[0;31m---------------------------------------------------------------------------\u001b[0m",
      "\u001b[0;31mException\u001b[0m                                 Traceback (most recent call last)",
      "\u001b[0;32m~/Desktop/notes/4TB3/group-11/src/P0.ipynb\u001b[0m in \u001b[0;36mcompileString\u001b[0;34m(src, dstfn, target)\u001b[0m\n\u001b[1;32m      7\u001b[0m    },\n\u001b[0;32m----> 8\u001b[0;31m    \"source\": [\n\u001b[0m\u001b[1;32m      9\u001b[0m     \u001b[0;34m\"**COMP SCI 4TB3/6TB3, McMaster University**  \\n\"\u001b[0m\u001b[0;34m,\u001b[0m\u001b[0;34m\u001b[0m\u001b[0;34m\u001b[0m\u001b[0m\n",
      "\u001b[0;32m~/Desktop/notes/4TB3/group-11/src/P0.ipynb\u001b[0m in \u001b[0;36mprogram\u001b[0;34m()\u001b[0m\n\u001b[1;32m      9\u001b[0m     \u001b[0;34m\"**COMP SCI 4TB3/6TB3, McMaster University**  \\n\"\u001b[0m\u001b[0;34m,\u001b[0m\u001b[0;34m\u001b[0m\u001b[0;34m\u001b[0m\u001b[0m\n\u001b[0;32m---> 10\u001b[0;31m     \u001b[0;34m\"**Emil Sekerinski, revised February 2022**\\n\"\u001b[0m\u001b[0;34m,\u001b[0m\u001b[0;34m\u001b[0m\u001b[0;34m\u001b[0m\u001b[0m\n\u001b[0m\u001b[1;32m     11\u001b[0m     \u001b[0;34m\"\\n\"\u001b[0m\u001b[0;34m,\u001b[0m\u001b[0;34m\u001b[0m\u001b[0;34m\u001b[0m\u001b[0m\n",
      "\u001b[0;32m~/Desktop/notes/4TB3/group-11/src/P0.ipynb\u001b[0m in \u001b[0;36mdeclarations\u001b[0;34m(allocVar)\u001b[0m\n\u001b[1;32m     54\u001b[0m     \u001b[0;34m\"* _Elementary Types:_\\n\"\u001b[0m\u001b[0;34m,\u001b[0m\u001b[0;34m\u001b[0m\u001b[0;34m\u001b[0m\u001b[0m\n\u001b[0;32m---> 55\u001b[0;31m     \u001b[0;34m\"      integer, boolean\\n\"\u001b[0m\u001b[0;34m,\u001b[0m\u001b[0;34m\u001b[0m\u001b[0;34m\u001b[0m\u001b[0m\n\u001b[0m\u001b[1;32m     56\u001b[0m     \u001b[0;34m\"* _Arrays_ (`m`, `n` integer expressions, `T` type):\\n\"\u001b[0m\u001b[0;34m,\u001b[0m\u001b[0;34m\u001b[0m\u001b[0;34m\u001b[0m\u001b[0m\n",
      "\u001b[0;32m~/Desktop/notes/4TB3/group-11/src/P0.ipynb\u001b[0m in \u001b[0;36mbody\u001b[0;34m(ident, parsize)\u001b[0m\n\u001b[1;32m      8\u001b[0m    \"source\": [\n\u001b[0;32m----> 9\u001b[0;31m     \u001b[0;34m\"**COMP SCI 4TB3/6TB3, McMaster University**  \\n\"\u001b[0m\u001b[0;34m,\u001b[0m\u001b[0;34m\u001b[0m\u001b[0;34m\u001b[0m\u001b[0m\n\u001b[0m\u001b[1;32m     10\u001b[0m     \u001b[0;34m\"**Emil Sekerinski, revised February 2022**\\n\"\u001b[0m\u001b[0;34m,\u001b[0m\u001b[0;34m\u001b[0m\u001b[0;34m\u001b[0m\u001b[0m\n",
      "\u001b[0;32m~/Desktop/notes/4TB3/group-11/src/P0.ipynb\u001b[0m in \u001b[0;36mstatementBlock\u001b[0;34m()\u001b[0m\n\u001b[1;32m      4\u001b[0m    \u001b[0;34m\"cell_type\"\u001b[0m\u001b[0;34m:\u001b[0m \u001b[0;34m\"markdown\"\u001b[0m\u001b[0;34m,\u001b[0m\u001b[0;34m\u001b[0m\u001b[0;34m\u001b[0m\u001b[0m\n\u001b[0;32m----> 5\u001b[0;31m    \"metadata\": {\n\u001b[0m\u001b[1;32m      6\u001b[0m     \u001b[0;34m\"hidePrompt\"\u001b[0m\u001b[0;34m:\u001b[0m \u001b[0mtrue\u001b[0m\u001b[0;34m\u001b[0m\u001b[0;34m\u001b[0m\u001b[0m\n",
      "\u001b[0;32m~/Desktop/notes/4TB3/group-11/src/P0.ipynb\u001b[0m in \u001b[0;36mstatementList\u001b[0;34m()\u001b[0m\n\u001b[1;32m      3\u001b[0m   {\n\u001b[0;32m----> 4\u001b[0;31m    \u001b[0;34m\"cell_type\"\u001b[0m\u001b[0;34m:\u001b[0m \u001b[0;34m\"markdown\"\u001b[0m\u001b[0;34m,\u001b[0m\u001b[0;34m\u001b[0m\u001b[0;34m\u001b[0m\u001b[0m\n\u001b[0m\u001b[1;32m      5\u001b[0m    \"metadata\": {\n",
      "\u001b[0;32m~/Desktop/notes/4TB3/group-11/src/P0.ipynb\u001b[0m in \u001b[0;36mstatement\u001b[0;34m()\u001b[0m\n\u001b[1;32m     95\u001b[0m    \u001b[0;34m\"cell_type\"\u001b[0m\u001b[0;34m:\u001b[0m \u001b[0;34m\"markdown\"\u001b[0m\u001b[0;34m,\u001b[0m\u001b[0;34m\u001b[0m\u001b[0;34m\u001b[0m\u001b[0m\n\u001b[0;32m---> 96\u001b[0;31m    \u001b[0;34m\"metadata\"\u001b[0m\u001b[0;34m:\u001b[0m \u001b[0;34m{\u001b[0m\u001b[0;34m}\u001b[0m\u001b[0;34m,\u001b[0m\u001b[0;34m\u001b[0m\u001b[0;34m\u001b[0m\u001b[0m\n\u001b[0m\u001b[1;32m     97\u001b[0m    \"source\": [\n",
      "\u001b[0;32m~/Desktop/notes/4TB3/group-11/src/P0.ipynb\u001b[0m in \u001b[0;36mstatementSuite\u001b[0;34m()\u001b[0m\n\u001b[1;32m      3\u001b[0m   {\n\u001b[0;32m----> 4\u001b[0;31m    \u001b[0;34m\"cell_type\"\u001b[0m\u001b[0;34m:\u001b[0m \u001b[0;34m\"markdown\"\u001b[0m\u001b[0;34m,\u001b[0m\u001b[0;34m\u001b[0m\u001b[0;34m\u001b[0m\u001b[0m\n\u001b[0m\u001b[1;32m      5\u001b[0m    \"metadata\": {\n",
      "\u001b[0;32m~/Desktop/notes/4TB3/group-11/src/P0.ipynb\u001b[0m in \u001b[0;36mstatementBlock\u001b[0;34m()\u001b[0m\n\u001b[1;32m      1\u001b[0m {\n\u001b[0;32m----> 2\u001b[0;31m  \"cells\": [\n\u001b[0m\u001b[1;32m      3\u001b[0m   {\n",
      "\u001b[0;32m~/Desktop/notes/4TB3/group-11/src/P0.ipynb\u001b[0m in \u001b[0;36mstatementList\u001b[0;34m()\u001b[0m\n\u001b[1;32m      1\u001b[0m {\n\u001b[0;32m----> 2\u001b[0;31m  \"cells\": [\n\u001b[0m\u001b[1;32m      3\u001b[0m   {\n",
      "\u001b[0;32m~/Desktop/notes/4TB3/group-11/src/P0.ipynb\u001b[0m in \u001b[0;36mstatement\u001b[0;34m()\u001b[0m\n\u001b[1;32m     81\u001b[0m    \"source\": [\n\u001b[0;32m---> 82\u001b[0;31m     \u001b[0;34m\"```Pascal\\n\"\u001b[0m\u001b[0;34m,\u001b[0m\u001b[0;34m\u001b[0m\u001b[0;34m\u001b[0m\u001b[0m\n\u001b[0m\u001b[1;32m     83\u001b[0m     \u001b[0;34m\"procedure fact(n: integer) → (f: integer)\\n\"\u001b[0m\u001b[0;34m,\u001b[0m\u001b[0;34m\u001b[0m\u001b[0;34m\u001b[0m\u001b[0m\n",
      "\u001b[0;32m~/Desktop/notes/4TB3/group-11/src/P0.ipynb\u001b[0m in \u001b[0;36mstatementSuite\u001b[0;34m()\u001b[0m\n\u001b[1;32m      3\u001b[0m   {\n\u001b[0;32m----> 4\u001b[0;31m    \u001b[0;34m\"cell_type\"\u001b[0m\u001b[0;34m:\u001b[0m \u001b[0;34m\"markdown\"\u001b[0m\u001b[0;34m,\u001b[0m\u001b[0;34m\u001b[0m\u001b[0;34m\u001b[0m\u001b[0m\n\u001b[0m\u001b[1;32m      5\u001b[0m    \"metadata\": {\n",
      "\u001b[0;32m~/Desktop/notes/4TB3/group-11/src/P0.ipynb\u001b[0m in \u001b[0;36mstatementBlock\u001b[0;34m()\u001b[0m\n\u001b[1;32m      4\u001b[0m    \u001b[0;34m\"cell_type\"\u001b[0m\u001b[0;34m:\u001b[0m \u001b[0;34m\"markdown\"\u001b[0m\u001b[0;34m,\u001b[0m\u001b[0;34m\u001b[0m\u001b[0;34m\u001b[0m\u001b[0m\n\u001b[0;32m----> 5\u001b[0;31m    \"metadata\": {\n\u001b[0m\u001b[1;32m      6\u001b[0m     \u001b[0;34m\"hidePrompt\"\u001b[0m\u001b[0;34m:\u001b[0m \u001b[0mtrue\u001b[0m\u001b[0;34m\u001b[0m\u001b[0;34m\u001b[0m\u001b[0m\n",
      "\u001b[0;32m~/Desktop/notes/4TB3/group-11/src/P0.ipynb\u001b[0m in \u001b[0;36mstatementList\u001b[0;34m()\u001b[0m\n\u001b[1;32m      1\u001b[0m {\n\u001b[0;32m----> 2\u001b[0;31m  \"cells\": [\n\u001b[0m\u001b[1;32m      3\u001b[0m   {\n",
      "\u001b[0;32m~/Desktop/notes/4TB3/group-11/src/P0.ipynb\u001b[0m in \u001b[0;36mstatement\u001b[0;34m()\u001b[0m\n\u001b[1;32m     95\u001b[0m    \u001b[0;34m\"cell_type\"\u001b[0m\u001b[0;34m:\u001b[0m \u001b[0;34m\"markdown\"\u001b[0m\u001b[0;34m,\u001b[0m\u001b[0;34m\u001b[0m\u001b[0;34m\u001b[0m\u001b[0m\n\u001b[0;32m---> 96\u001b[0;31m    \u001b[0;34m\"metadata\"\u001b[0m\u001b[0;34m:\u001b[0m \u001b[0;34m{\u001b[0m\u001b[0;34m}\u001b[0m\u001b[0;34m,\u001b[0m\u001b[0;34m\u001b[0m\u001b[0;34m\u001b[0m\u001b[0m\n\u001b[0m\u001b[1;32m     97\u001b[0m    \"source\": [\n",
      "\u001b[0;32m~/Desktop/notes/4TB3/group-11/src/P0.ipynb\u001b[0m in \u001b[0;36mstatementSuite\u001b[0;34m()\u001b[0m\n\u001b[1;32m      3\u001b[0m   {\n\u001b[0;32m----> 4\u001b[0;31m    \u001b[0;34m\"cell_type\"\u001b[0m\u001b[0;34m:\u001b[0m \u001b[0;34m\"markdown\"\u001b[0m\u001b[0;34m,\u001b[0m\u001b[0;34m\u001b[0m\u001b[0;34m\u001b[0m\u001b[0m\n\u001b[0m\u001b[1;32m      5\u001b[0m    \"metadata\": {\n",
      "\u001b[0;32m~/Desktop/notes/4TB3/group-11/src/P0.ipynb\u001b[0m in \u001b[0;36mstatementBlock\u001b[0;34m()\u001b[0m\n\u001b[1;32m      1\u001b[0m {\n\u001b[0;32m----> 2\u001b[0;31m  \"cells\": [\n\u001b[0m\u001b[1;32m      3\u001b[0m   {\n",
      "\u001b[0;32m~/Desktop/notes/4TB3/group-11/src/P0.ipynb\u001b[0m in \u001b[0;36mstatementList\u001b[0;34m()\u001b[0m\n\u001b[1;32m      1\u001b[0m {\n\u001b[0;32m----> 2\u001b[0;31m  \"cells\": [\n\u001b[0m\u001b[1;32m      3\u001b[0m   {\n",
      "\u001b[0;32m~/Desktop/notes/4TB3/group-11/src/P0.ipynb\u001b[0m in \u001b[0;36mstatement\u001b[0;34m()\u001b[0m\n\u001b[1;32m     27\u001b[0m     \u001b[0;34m\"      x d := e\\n\"\u001b[0m\u001b[0;34m,\u001b[0m\u001b[0;34m\u001b[0m\u001b[0;34m\u001b[0m\u001b[0m\n\u001b[0;32m---> 28\u001b[0;31m     \u001b[0;34m\"* _Procedure call_ (`p` procedure identifier, `e₁`, `e₂`, … expressions, `x₁`, `x₂`, … variable identifiers):\\n\"\u001b[0m\u001b[0;34m,\u001b[0m\u001b[0;34m\u001b[0m\u001b[0;34m\u001b[0m\u001b[0m\n\u001b[0m\u001b[1;32m     29\u001b[0m     \u001b[0;34m\"      p(e₁, e₂, …)\\n\"\u001b[0m\u001b[0;34m,\u001b[0m\u001b[0;34m\u001b[0m\u001b[0;34m\u001b[0m\u001b[0m\n",
      "\u001b[0;32m~/Desktop/notes/4TB3/group-11/src/P0.ipynb\u001b[0m in \u001b[0;36mexpression\u001b[0;34m()\u001b[0m\n\u001b[1;32m     69\u001b[0m     \u001b[0;34m\"* _Operators,_ in order of their binding power (e, e₁, e₂ are expressions):\\n\"\u001b[0m\u001b[0;34m,\u001b[0m\u001b[0;34m\u001b[0m\u001b[0;34m\u001b[0m\u001b[0m\n\u001b[0;32m---> 70\u001b[0;31m     \u001b[0;34m\"\\t  (e), ¬ e, #e, ∁ e\\n\"\u001b[0m\u001b[0;34m,\u001b[0m\u001b[0;34m\u001b[0m\u001b[0;34m\u001b[0m\u001b[0m\n\u001b[0m\u001b[1;32m     71\u001b[0m     \u001b[0;34m\"      e₁ × e₂, e₁ div e₂, e₁ mod e₂, e₁ ∩ e₂, e₁ and e₂\\n\"\u001b[0m\u001b[0;34m,\u001b[0m\u001b[0;34m\u001b[0m\u001b[0;34m\u001b[0m\u001b[0m\n",
      "\u001b[0;32m~/Desktop/notes/4TB3/group-11/src/P0.ipynb\u001b[0m in \u001b[0;36msimpleExpression\u001b[0;34m()\u001b[0m\n\u001b[1;32m      8\u001b[0m    \"source\": [\n\u001b[0;32m----> 9\u001b[0;31m     \u001b[0;34m\"**COMP SCI 4TB3/6TB3, McMaster University**  \\n\"\u001b[0m\u001b[0;34m,\u001b[0m\u001b[0;34m\u001b[0m\u001b[0;34m\u001b[0m\u001b[0m\n\u001b[0m\u001b[1;32m     10\u001b[0m     \u001b[0;34m\"**Emil Sekerinski, revised February 2022**\\n\"\u001b[0m\u001b[0;34m,\u001b[0m\u001b[0;34m\u001b[0m\u001b[0;34m\u001b[0m\u001b[0m\n",
      "\u001b[0;32m~/Desktop/notes/4TB3/group-11/src/P0.ipynb\u001b[0m in \u001b[0;36mterm\u001b[0;34m()\u001b[0m\n\u001b[1;32m      1\u001b[0m {\n\u001b[0;32m----> 2\u001b[0;31m  \"cells\": [\n\u001b[0m\u001b[1;32m      3\u001b[0m   {\n",
      "\u001b[0;32m~/Desktop/notes/4TB3/group-11/src/P0.ipynb\u001b[0m in \u001b[0;36mfactor\u001b[0;34m()\u001b[0m\n\u001b[1;32m      3\u001b[0m   {\n\u001b[0;32m----> 4\u001b[0;31m    \u001b[0;34m\"cell_type\"\u001b[0m\u001b[0;34m:\u001b[0m \u001b[0;34m\"markdown\"\u001b[0m\u001b[0;34m,\u001b[0m\u001b[0;34m\u001b[0m\u001b[0;34m\u001b[0m\u001b[0m\n\u001b[0m\u001b[1;32m      5\u001b[0m    \"metadata\": {\n",
      "\u001b[0;32m~/Desktop/notes/4TB3/group-11/src/SC.ipynb\u001b[0m in \u001b[0;36mgetSym\u001b[0;34m()\u001b[0m\n\u001b[1;32m     60\u001b[0m   {\n\u001b[0;32m---> 61\u001b[0;31m    \u001b[0;34m\"cell_type\"\u001b[0m\u001b[0;34m:\u001b[0m \u001b[0;34m\"code\"\u001b[0m\u001b[0;34m,\u001b[0m\u001b[0;34m\u001b[0m\u001b[0;34m\u001b[0m\u001b[0m\n\u001b[0m\u001b[1;32m     62\u001b[0m    \u001b[0;34m\"execution_count\"\u001b[0m\u001b[0;34m:\u001b[0m \u001b[0mnull\u001b[0m\u001b[0;34m,\u001b[0m\u001b[0;34m\u001b[0m\u001b[0;34m\u001b[0m\u001b[0m\n",
      "\u001b[0;32m~/Desktop/notes/4TB3/group-11/src/SC.ipynb\u001b[0m in \u001b[0;36mmark\u001b[0;34m(msg)\u001b[0m\n\u001b[1;32m      1\u001b[0m {\n\u001b[0;32m----> 2\u001b[0;31m  \"cells\": [\n\u001b[0m\u001b[1;32m      3\u001b[0m   {\n",
      "\u001b[0;31mException\u001b[0m: line 13 pos 30 illegal character",
      "\nDuring handling of the above exception, another exception occurred:\n",
      "\u001b[0;31mException\u001b[0m                                 Traceback (most recent call last)",
      "\u001b[0;32m/tmp/ipykernel_177129/3561182894.py\u001b[0m in \u001b[0;36m<module>\u001b[0;34m\u001b[0m\n\u001b[0;32m----> 1\u001b[0;31m compileString(\"\"\"\n\u001b[0m\u001b[1;32m      2\u001b[0m \u001b[0mconst\u001b[0m \u001b[0mN\u001b[0m \u001b[0;34m=\u001b[0m \u001b[0;36m32\u001b[0m\u001b[0;34m\u001b[0m\u001b[0;34m\u001b[0m\u001b[0m\n\u001b[1;32m      3\u001b[0m \u001b[0mconst\u001b[0m \u001b[0mR\u001b[0m \u001b[0;34m=\u001b[0m \u001b[0;36m5\u001b[0m \u001b[0;34m//\u001b[0m\u001b[0;31m \u001b[0m\u001b[0;31m⌊\u001b[0m\u001b[0;31m√\u001b[0m\u001b[0mN\u001b[0m\u001b[0;31m⌋\u001b[0m\u001b[0;34m\u001b[0m\u001b[0;34m\u001b[0m\u001b[0m\n\u001b[1;32m      4\u001b[0m \u001b[0mtype\u001b[0m \u001b[0mS\u001b[0m \u001b[0;34m=\u001b[0m \u001b[0mset\u001b[0m \u001b[0;34m[\u001b[0m\u001b[0;36m2\u001b[0m \u001b[0;34m.\u001b[0m\u001b[0;34m.\u001b[0m \u001b[0;36m31\u001b[0m\u001b[0;34m]\u001b[0m\u001b[0;34m\u001b[0m\u001b[0;34m\u001b[0m\u001b[0m\n\u001b[1;32m      5\u001b[0m \u001b[0mprocedure\u001b[0m \u001b[0meratosthenes\u001b[0m\u001b[0;34m(\u001b[0m\u001b[0;34m)\u001b[0m\u001b[0;31m \u001b[0m\u001b[0;31m→\u001b[0m \u001b[0;34m(\u001b[0m\u001b[0mp\u001b[0m\u001b[0;34m:\u001b[0m \u001b[0mS\u001b[0m\u001b[0;34m)\u001b[0m\u001b[0;34m\u001b[0m\u001b[0;34m\u001b[0m\u001b[0m\n",
      "\u001b[0;32m~/Desktop/notes/4TB3/group-11/src/P0.ipynb\u001b[0m in \u001b[0;36mcompileString\u001b[0;34m(src, dstfn, target)\u001b[0m\n\u001b[1;32m     11\u001b[0m     \u001b[0;34m\"\\n\"\u001b[0m\u001b[0;34m,\u001b[0m\u001b[0;34m\u001b[0m\u001b[0;34m\u001b[0m\u001b[0m\n\u001b[1;32m     12\u001b[0m     \u001b[0;34m\"This collection of Jupyter notebooks develops a compiler for P0, a programming language inspired by Pascal, a language designed for ease of compilation. The differences to Pascal are that indentation is used for bracketing, there are only value and result parameters (no reference parameters), multiple assignments are allowed, the syntax for procedure calls, procedure declarations, array declarations, and record declarations is different, and Unicode characters are used. The compiler currently generates WebAssebmbly and MIPS code, but is modularized to facilitate other targets. WebAssembly is representative of stack-based virtual machines while the MIPS architecture is representative of Reduced Instruction Set Computing (RISC) processors.\"\u001b[0m\u001b[0;34m\u001b[0m\u001b[0;34m\u001b[0m\u001b[0m\n\u001b[0;32m---> 13\u001b[0;31m    ]\n\u001b[0m\u001b[1;32m     14\u001b[0m   },\n\u001b[1;32m     15\u001b[0m   {\n",
      "\u001b[0;31mException\u001b[0m: line 13 pos 30 illegal character"
     ]
    }
   ],
   "source": [
    "compileString(\"\"\"\n",
    "\n",
    "procedure eratosthenes() → (p: S)\n",
    "\n",
    "program repeatprimes\n",
    "\n",
    "\"\"\", 'test.wat', target = 'wat')"
   ]
  },
  {
   "cell_type": "code",
   "execution_count": null,
   "metadata": {},
   "outputs": [],
   "source": [
    "# !wat2wasm test.wat"
   ]
  },
  {
   "cell_type": "code",
   "execution_count": null,
   "metadata": {},
   "outputs": [],
   "source": [
    "# runwasm(\"test.wasm\")"
   ]
  }
 ],
 "metadata": {
  "interpreter": {
   "hash": "31f2aee4e71d21fbe5cf8b01ff0e069b9275f58929596ceb00d14d90e3e16cd6"
  },
  "kernelspec": {
   "display_name": "Python 3.8.10 64-bit",
   "language": "python",
   "name": "python3"
  },
  "language_info": {
   "codemirror_mode": {
    "name": "ipython",
    "version": 3
   },
   "file_extension": ".py",
   "mimetype": "text/x-python",
   "name": "python",
   "nbconvert_exporter": "python",
   "pygments_lexer": "ipython3",
   "version": "3.8.10"
  },
  "orig_nbformat": 4
 },
 "nbformat": 4,
 "nbformat_minor": 2
}
