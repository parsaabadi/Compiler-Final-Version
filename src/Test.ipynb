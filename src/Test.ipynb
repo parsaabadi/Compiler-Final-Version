{
 "cells": [
  {
   "cell_type": "code",
   "execution_count": 5,
   "metadata": {},
   "outputs": [],
   "source": [
    "import nbimporter; nbimporter.options[\"only_defs\"] = False\n",
    "from P0 import compileString\n",
    "\n",
    "def runpywasm(wasmfile):\n",
    "    import pywasm\n",
    "    def write(s, i): print(i)\n",
    "    def writeln(s): print('\\n')\n",
    "    def read(s): return int(input())\n",
    "    vm = pywasm.load(wasmfile, {'P0lib': {'write': write, 'writeln': writeln, 'read': read}})"
   ]
  },
  {
   "cell_type": "code",
   "execution_count": 7,
   "metadata": {},
   "outputs": [
    {
     "name": "stdout",
     "output_type": "stream",
     "text": [
      "PARSING LIST BUILDER SUCCESS\n"
     ]
    },
    {
     "ename": "Exception",
     "evalue": "local variable 'x' referenced before assignment",
     "output_type": "error",
     "traceback": [
      "\u001b[1;31m---------------------------------------------------------------------------\u001b[0m",
      "\u001b[1;31mUnboundLocalError\u001b[0m                         Traceback (most recent call last)",
      "\u001b[1;32mc:\\Users\\danie\\OneDrive\\Desktop\\School\\4TB3\\vscode\\group-11\\src\\P0.ipynb\u001b[0m in \u001b[0;36mcompileString\u001b[1;34m(src, dstfn, target)\u001b[0m\n\u001b[0;32m      7\u001b[0m    },\n\u001b[1;32m----> 8\u001b[1;33m    \"source\": [\n\u001b[0m\u001b[0;32m      9\u001b[0m     \u001b[1;34m\"**COMP SCI 4TB3/6TB3, McMaster University**  \\n\"\u001b[0m\u001b[1;33m,\u001b[0m\u001b[1;33m\u001b[0m\u001b[1;33m\u001b[0m\u001b[0m\n",
      "\u001b[1;32mc:\\Users\\danie\\OneDrive\\Desktop\\School\\4TB3\\vscode\\group-11\\src\\P0.ipynb\u001b[0m in \u001b[0;36mprogram\u001b[1;34m()\u001b[0m\n\u001b[0;32m     15\u001b[0m   {\n\u001b[1;32m---> 16\u001b[1;33m    \u001b[1;34m\"cell_type\"\u001b[0m\u001b[1;33m:\u001b[0m \u001b[1;34m\"markdown\"\u001b[0m\u001b[1;33m,\u001b[0m\u001b[1;33m\u001b[0m\u001b[1;33m\u001b[0m\u001b[0m\n\u001b[0m\u001b[0;32m     17\u001b[0m    \"metadata\": {\n",
      "\u001b[1;32mc:\\Users\\danie\\OneDrive\\Desktop\\School\\4TB3\\vscode\\group-11\\src\\P0.ipynb\u001b[0m in \u001b[0;36mbody\u001b[1;34m(ident, parsize)\u001b[0m\n\u001b[0;32m      8\u001b[0m    \"source\": [\n\u001b[1;32m----> 9\u001b[1;33m     \u001b[1;34m\"**COMP SCI 4TB3/6TB3, McMaster University**  \\n\"\u001b[0m\u001b[1;33m,\u001b[0m\u001b[1;33m\u001b[0m\u001b[1;33m\u001b[0m\u001b[0m\n\u001b[0m\u001b[0;32m     10\u001b[0m     \u001b[1;34m\"**Emil Sekerinski, revised February 2022**\\n\"\u001b[0m\u001b[1;33m,\u001b[0m\u001b[1;33m\u001b[0m\u001b[1;33m\u001b[0m\u001b[0m\n",
      "\u001b[1;32mc:\\Users\\danie\\OneDrive\\Desktop\\School\\4TB3\\vscode\\group-11\\src\\P0.ipynb\u001b[0m in \u001b[0;36mstatementBlock\u001b[1;34m()\u001b[0m\n\u001b[0;32m      1\u001b[0m {\n\u001b[1;32m----> 2\u001b[1;33m  \"cells\": [\n\u001b[0m\u001b[0;32m      3\u001b[0m   {\n",
      "\u001b[1;32mc:\\Users\\danie\\OneDrive\\Desktop\\School\\4TB3\\vscode\\group-11\\src\\P0.ipynb\u001b[0m in \u001b[0;36mstatementList\u001b[1;34m()\u001b[0m\n\u001b[0;32m      1\u001b[0m {\n\u001b[1;32m----> 2\u001b[1;33m  \"cells\": [\n\u001b[0m\u001b[0;32m      3\u001b[0m   {\n",
      "\u001b[1;32mc:\\Users\\danie\\OneDrive\\Desktop\\School\\4TB3\\vscode\\group-11\\src\\P0.ipynb\u001b[0m in \u001b[0;36mstatement\u001b[1;34m()\u001b[0m\n\u001b[0;32m     28\u001b[0m     \u001b[1;34m\"* _Procedure call_ (`p` procedure identifier, `e₁`, `e₂`, … expressions, `x₁`, `x₂`, … variable identifiers):\\n\"\u001b[0m\u001b[1;33m,\u001b[0m\u001b[1;33m\u001b[0m\u001b[1;33m\u001b[0m\u001b[0m\n\u001b[1;32m---> 29\u001b[1;33m     \u001b[1;34m\"      p(e₁, e₂, …)\\n\"\u001b[0m\u001b[1;33m,\u001b[0m\u001b[1;33m\u001b[0m\u001b[1;33m\u001b[0m\u001b[0m\n\u001b[0m\u001b[0;32m     30\u001b[0m     \u001b[1;34m\"      x₁, x₂, … ← p(e₁, e₂, …)\\n\"\u001b[0m\u001b[1;33m,\u001b[0m\u001b[1;33m\u001b[0m\u001b[1;33m\u001b[0m\u001b[0m\n",
      "\u001b[1;32mc:\\Users\\danie\\OneDrive\\Desktop\\School\\4TB3\\vscode\\group-11\\src\\P0.ipynb\u001b[0m in \u001b[0;36mexpression\u001b[1;34m()\u001b[0m\n\u001b[0;32m    141\u001b[0m     \u001b[1;34m\"        {\\\"procedure\\\" ident \\\"(\\\" [typedIds] \\\")\\\" [ \\\"→\\\" \\\"(\\\" typedIds \\\")\\\" ] body}\\n\"\u001b[0m\u001b[1;33m,\u001b[0m\u001b[1;33m\u001b[0m\u001b[1;33m\u001b[0m\u001b[0m\n\u001b[1;32m--> 142\u001b[1;33m     \u001b[1;34m\"    body ::= INDENT declarations (statementBlock | INDENT statementBlock DEDENT) DEDENT\\n\"\u001b[0m\u001b[1;33m,\u001b[0m\u001b[1;33m\u001b[0m\u001b[1;33m\u001b[0m\u001b[0m\n\u001b[0m\u001b[0;32m    143\u001b[0m     \u001b[1;34m\"    program ::= declarations \\\"program\\\" ident body\"\u001b[0m\u001b[1;33m\u001b[0m\u001b[1;33m\u001b[0m\u001b[0m\n",
      "\u001b[1;31mUnboundLocalError\u001b[0m: local variable 'x' referenced before assignment",
      "\nDuring handling of the above exception, another exception occurred:\n",
      "\u001b[1;31mException\u001b[0m                                 Traceback (most recent call last)",
      "\u001b[1;32m~\\AppData\\Local\\Temp/ipykernel_26640/3228804497.py\u001b[0m in \u001b[0;36m<module>\u001b[1;34m\u001b[0m\n\u001b[1;32m----> 1\u001b[1;33m compileString(\"\"\"\n\u001b[0m\u001b[0;32m      2\u001b[0m \u001b[0mtype\u001b[0m \u001b[0mArr\u001b[0m \u001b[1;33m=\u001b[0m \u001b[1;33m[\u001b[0m\u001b[1;36m0\u001b[0m \u001b[1;33m.\u001b[0m\u001b[1;33m.\u001b[0m \u001b[1;36m5\u001b[0m\u001b[1;33m]\u001b[0m\u001b[0;31m \u001b[0m\u001b[0;31m→\u001b[0m \u001b[0minteger\u001b[0m\u001b[1;33m\u001b[0m\u001b[1;33m\u001b[0m\u001b[0m\n\u001b[0;32m      3\u001b[0m \u001b[1;33m\u001b[0m\u001b[0m\n\u001b[0;32m      4\u001b[0m \u001b[0mprogram\u001b[0m \u001b[0mrepeatprimes\u001b[0m\u001b[1;33m\u001b[0m\u001b[1;33m\u001b[0m\u001b[0m\n\u001b[0;32m      5\u001b[0m     \u001b[0mvar\u001b[0m \u001b[0mi\u001b[0m\u001b[1;33m:\u001b[0m\u001b[0minteger\u001b[0m\u001b[1;33m\u001b[0m\u001b[1;33m\u001b[0m\u001b[0m\n",
      "\u001b[1;32mc:\\Users\\danie\\OneDrive\\Desktop\\School\\4TB3\\vscode\\group-11\\src\\P0.ipynb\u001b[0m in \u001b[0;36mcompileString\u001b[1;34m(src, dstfn, target)\u001b[0m\n\u001b[0;32m     11\u001b[0m     \u001b[1;34m\"\\n\"\u001b[0m\u001b[1;33m,\u001b[0m\u001b[1;33m\u001b[0m\u001b[1;33m\u001b[0m\u001b[0m\n\u001b[0;32m     12\u001b[0m     \u001b[1;34m\"This collection of Jupyter notebooks develops a compiler for P0, a programming language inspired by Pascal, a language designed for ease of compilation. The differences to Pascal are that indentation is used for bracketing, there are only value and result parameters (no reference parameters), multiple assignments are allowed, the syntax for procedure calls, procedure declarations, array declarations, and record declarations is different, and Unicode characters are used. The compiler currently generates WebAssebmbly and MIPS code, but is modularized to facilitate other targets. WebAssembly is representative of stack-based virtual machines while the MIPS architecture is representative of Reduced Instruction Set Computing (RISC) processors.\"\u001b[0m\u001b[1;33m\u001b[0m\u001b[1;33m\u001b[0m\u001b[0m\n\u001b[1;32m---> 13\u001b[1;33m    ]\n\u001b[0m\u001b[0;32m     14\u001b[0m   },\n\u001b[0;32m     15\u001b[0m   {\n",
      "\u001b[1;31mException\u001b[0m: local variable 'x' referenced before assignment"
     ]
    }
   ],
   "source": [
    "compileString(\"\"\"\n",
    "type Arr = [0 .. 5] → integer\n",
    "\n",
    "program repeatprimes\n",
    "    var i:integer\n",
    "    var N:integer\n",
    "    var a:Arr\n",
    "    var b:Arr\n",
    "    var sorted:boolean\n",
    "        a :=  [i × i for i ∈ 0 .. 5] \n",
    "\n",
    "\"\"\", 'test.wat', target = 'wat')"
   ]
  },
  {
   "cell_type": "markdown",
   "metadata": {},
   "source": [
    "sorted := all i ∈ 0 .. 10 • a[i] ≤ a[i + 1]"
   ]
  },
  {
   "cell_type": "code",
   "execution_count": 3,
   "metadata": {},
   "outputs": [],
   "source": [
    "# !wat2wasm test.wat"
   ]
  },
  {
   "cell_type": "code",
   "execution_count": 4,
   "metadata": {},
   "outputs": [],
   "source": [
    "# runwasm(\"test.wasm\")"
   ]
  }
 ],
 "metadata": {
  "interpreter": {
   "hash": "31f2aee4e71d21fbe5cf8b01ff0e069b9275f58929596ceb00d14d90e3e16cd6"
  },
  "kernelspec": {
   "display_name": "Python 3.8.10 64-bit",
   "language": "python",
   "name": "python3"
  },
  "language_info": {
   "codemirror_mode": {
    "name": "ipython",
    "version": 3
   },
   "file_extension": ".py",
   "mimetype": "text/x-python",
   "name": "python",
   "nbconvert_exporter": "python",
   "pygments_lexer": "ipython3",
   "version": "3.9.7"
  },
  "orig_nbformat": 4
 },
 "nbformat": 4,
 "nbformat_minor": 2
}
