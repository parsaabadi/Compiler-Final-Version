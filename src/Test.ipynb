{
 "cells": [
  {
   "cell_type": "code",
   "execution_count": 2,
   "metadata": {},
   "outputs": [],
   "source": [
    "import nbimporter; nbimporter.options[\"only_defs\"] = False\n",
    "from P0 import compileString\n",
    "\n",
    "def runpywasm(wasmfile):\n",
    "    import pywasm\n",
    "    def write(s, i): print(i)\n",
    "    def writeln(s): print('\\n')\n",
    "    def read(s): return int(input())\n",
    "    vm = pywasm.load(wasmfile, {'P0lib': {'write': write, 'writeln': writeln, 'read': read}})"
   ]
  },
  {
   "cell_type": "code",
   "execution_count": 5,
   "metadata": {},
   "outputs": [
    {
     "name": "stdout",
     "output_type": "stream",
     "text": [
      "BEFORE 1\n",
      "AFTER 28\n",
      "2nd BEFORE 28\n",
      "2nd AFTER 50\n"
     ]
    }
   ],
   "source": [
    "compileString(\"\"\"\n",
    "type Arr = [0 .. 5] → integer\n",
    "type S = set[0..5]\n",
    "program repeatprimes\n",
    "    var i:integer\n",
    "    var N:integer\n",
    "    var a:S\n",
    "    var b:S\n",
    "    var sorted:boolean\n",
    "        b := {i ∈ 0 .. 5 | i mod 2 = 1 • i}\n",
    "\n",
    "\"\"\", 'test.wat', target = 'wat')"
   ]
  },
  {
   "cell_type": "markdown",
   "metadata": {},
   "source": [
    "EXample of what needs to be compield:\n",
    "sorted := all i ∈ 0 .. 10 • a[i] ≤ a[i + 1]\n",
    "\n",
    "[i × i for i ∈ 0 .. 5]\n",
    "\n",
    "a := {i for i ∈ 0 .. 5 if i mod 2 = 1} \n",
    "b := {i ∈ 0 .. 5 | i mod 2 = 1 • i} "
   ]
  },
  {
   "cell_type": "code",
   "execution_count": 3,
   "metadata": {},
   "outputs": [],
   "source": [
    "# !wat2wasm test.wat"
   ]
  },
  {
   "cell_type": "code",
   "execution_count": 4,
   "metadata": {},
   "outputs": [],
   "source": [
    "# runwasm(\"test.wasm\")"
   ]
  }
 ],
 "metadata": {
  "interpreter": {
   "hash": "31f2aee4e71d21fbe5cf8b01ff0e069b9275f58929596ceb00d14d90e3e16cd6"
  },
  "kernelspec": {
   "display_name": "Python 3.8.10 64-bit",
   "language": "python",
   "name": "python3"
  },
  "language_info": {
   "codemirror_mode": {
    "name": "ipython",
    "version": 3
   },
   "file_extension": ".py",
   "mimetype": "text/x-python",
   "name": "python",
   "nbconvert_exporter": "python",
   "pygments_lexer": "ipython3",
   "version": "3.8.10"
  },
  "orig_nbformat": 4
 },
 "nbformat": 4,
 "nbformat_minor": 2
}
