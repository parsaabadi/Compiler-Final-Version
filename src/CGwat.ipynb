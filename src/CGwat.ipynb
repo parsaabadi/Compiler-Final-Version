{
 "cells": [
  {
   "cell_type": "markdown",
   "metadata": {},
   "source": [
    "### P0 Code Generator for WASM"
   ]
  },
  {
   "cell_type": "markdown",
   "metadata": {},
   "source": [
    "**Emil Sekerinski, McMaster University, revised February 2022**\n",
    "\n",
    "The generated code is kept in memory and all code generation procedures continuously append to that code: procedure `genProgStart` initializes the generator, then `gen`-prefixed procedures are to be called for P0 constructs in the same order in which they are recognized by a recursive descent parser, and finally procedure `genProgExit` returns the generated code in assembly language as a string in textual WebAssembly. The generation procedures are:\n",
    "- `genBool`, `genInt`, `genRec`, `genArray`, `genSet`\n",
    "- `genProgStart`, `genGlobalVars`, `genProgEntry`, `genProgExit`\n",
    "- `genProcStart`, `genLocalVars`, `genProcEntry`, `genProcExit`\n",
    "- `genIndex`, `genSelect`, `genVar`, `genConst`, `genUnaryOp`, `genBinaryOp`, `genRelation`\n",
    "- `genLeftAssign`, `genRightAssign`, `genAssign`, `genActualPara`, `genCall`\n",
    "- `genRead`, `genWrite`, `genWriteln`\n",
    "- `genSeq`, `genThen`, `genIfThen`, `genElse`, `genIfElse`, `genWhile`, `genDo`, `genWhileDo`\n",
    "\n",
    "Errors in the code generator are reported by calling `mark` of the scanner. The data types of the symbol table are used to specify the P0 constructs for which code is to be generated."
   ]
  },
  {
   "cell_type": "code",
   "execution_count": null,
   "metadata": {},
   "outputs": [],
   "source": [
    "import nbimporter; nbimporter.options[\"only_defs\"] = False\n",
    "from SC import TIMES, DIV, MOD, PLUS, MINUS, AND, OR, EQ, NE, LT, GT, LE, GE, \\\n",
    "     NOT, CARD, COMPLEMENT, UNION, INTERSECTION, ELEMENT, SUBSET, SUPERSET, SET, \\\n",
    "     mark, FORALL#Bool quantifier added \n",
    "from ST import indent, Var, Const, Type, Proc, StdProc, Int, Bool, Array, \\\n",
    "     Record, Set"
   ]
  },
  {
   "cell_type": "markdown",
   "metadata": {},
   "source": [
    "Following variables determine the state of the code generator:\n",
    "\n",
    "- `curlev` is the current level of nesting of P0 procedures\n",
    "- `memsize` is the size of the memory, in which records and arrays are allocated\n",
    "- `asm` is a list of strings with the WASM instruction in textual form"
   ]
  },
  {
   "cell_type": "markdown",
   "metadata": {},
   "source": [
    "Procedure `genProgStart()` initializes these variables."
   ]
  },
  {
   "cell_type": "code",
   "execution_count": null,
   "metadata": {},
   "outputs": [],
   "source": [
    "def genProgStart():\n",
    "    global curlev, memsize, asm\n",
    "    curlev, memsize = 0, 0\n",
    "    asm = ['(module',\n",
    "           '(import \"P0lib\" \"write\" (func $write (param i32)))',\n",
    "           '(import \"P0lib\" \"writeln\" (func $writeln))',\n",
    "           '(import \"P0lib\" \"read\" (func $read (result i32)))']"
   ]
  },
  {
   "cell_type": "markdown",
   "metadata": {},
   "source": [
    "Following procedures \"generate code\" for all P0 types by determining the size of objects and store in the `size` field.\n",
    "- Integers and booleans occupy 4 bytes\n",
    "- The size of a record is the sum of the sizes of its field; the offset of a field is the sum of the size of the preceding fields\n",
    "- The size of an array is its length times the size of the base type."
   ]
  },
  {
   "cell_type": "code",
   "execution_count": null,
   "metadata": {},
   "outputs": [],
   "source": [
    "def genBool(b: Bool):\n",
    "    b.size = 1; return b\n",
    "\n",
    "def genInt(i: Int):\n",
    "    i.size = 4; return i\n",
    "\n",
    "def genRec(r: Record):\n",
    "    s = 0\n",
    "    for f in r.fields:\n",
    "        f.offset, s = s, s + f.tp.size\n",
    "    r.size = s\n",
    "    return r\n",
    "\n",
    "def genArray(a: Array):\n",
    "    a.size = a.length * a.base.size\n",
    "    return a\n",
    "\n",
    "def genSet(s: Set):\n",
    "    if s.lower < 0 or s.lower + s.length > 32:\n",
    "        mark('WASM: set too large')\n",
    "    s.size = 4; return s"
   ]
  },
  {
   "cell_type": "markdown",
   "metadata": {},
   "source": [
    "The symbol table assigns to each entry the level of declaration in the field `lev: int`. Variables are assigned a `name: str` field by the symbol table and an `adr: int` field by the code generator. The use of the `lev` field is extended:"
   ]
  },
  {
   "cell_type": "code",
   "execution_count": null,
   "metadata": {},
   "outputs": [],
   "source": [
    "Global = 0; Stack = -1; MemInd = -2; MemAbs = -3"
   ]
  },
  {
   "cell_type": "markdown",
   "metadata": {},
   "source": [
    "- `lev > 0`: local `Int`, `Bool`, `Set` variable or parameter allocated in the procedure (function) call frame, accessed by `name` or `Array`, `Record` variable in memory with address in local variable `name`.\n",
    "- `lev = Global`: global `Int`, `Bool`, `Set` variable allocated as a WebAssembly global variable, accessed by `name`,\n",
    "- `lev = Stack`: `Int`, `Bool`, `Set` variable on the expression stack, `Array`, `Record` variable in memory with address on the expression stack,\n",
    "- `lev = MemInd`: `Int`, `Bool`, `Set` variable in WebAssembly memory with address on expression stack\n",
    "- `lev = MemAbs`: `Int`, `Bool`, `Set`, `Array`, `Record` variable allocated in WebAssembly memory, accessed by `adr`."
   ]
  },
  {
   "cell_type": "markdown",
   "metadata": {},
   "source": [
    "For each declared global variable, `genGlobalVars(sc, start)` allocates a global WebAssembly variable by the same name, if the type is `Int` or `Bool`, or reserves space in the memory, if the type is `Array`, `Record`. The parameter `sc` contains the top scope with all declarations parsed so far; only variable declarations from index `start` on in the top scope are considered."
   ]
  },
  {
   "cell_type": "code",
   "execution_count": null,
   "metadata": {},
   "outputs": [],
   "source": [
    "def genGlobalVars(sc, start):\n",
    "    global memsize\n",
    "    for i in range(start, len(sc)):\n",
    "        if type(sc[i]) == Var:\n",
    "            if sc[i].tp in (Int, Bool) or type(sc[i].tp) == Set:\n",
    "                asm.append('(global $' + sc[i].name + ' (mut i32) i32.const 0)')\n",
    "            elif type(sc[i].tp) in (Array, Record):\n",
    "                sc[i].lev, sc[i].adr, memsize = MemAbs, memsize, memsize + sc[i].tp.size\n",
    "            else: mark('WASM: type?')\n",
    "    \n",
    "def genLocalVars(sc, start):\n",
    "    for i in range(start, len(sc)):\n",
    "        if type(sc[i]) == Var:\n",
    "            asm.append('(local $' + sc[i].name + ' i32)')\n",
    "    asm.append('(local $0 i32)') # auxiliary local variable\n",
    "    return sc[start:]"
   ]
  },
  {
   "cell_type": "markdown",
   "metadata": {},
   "source": [
    "Procedure `loadItem(x)` generates code for loading `x` on the expression stack, assuming `x` is global `Var`, local `Var`, stack `Var`, memory `Var`, or `Const`."
   ]
  },
  {
   "cell_type": "code",
   "execution_count": null,
   "metadata": {},
   "outputs": [],
   "source": [
    "def loadItem(x):\n",
    "    if type(x) == Var:\n",
    "        if x.lev == Global: asm.append('global.get $' + x.name) # global Var\n",
    "        elif x.lev == curlev: asm.append('local.get $' + x.name) # local Var\n",
    "        elif x.lev == MemInd: asm.append('i32.load')\n",
    "        elif x.lev == MemAbs:\n",
    "            asm.append('i32.const ' + str(x.adr))\n",
    "            if x.tp in {Int, Bool}: asm.append('i32.load')\n",
    "        elif x.lev != Stack: mark('WASM: var level!') # already on stack if lev == Stack\n",
    "    else: asm.append('i32.const ' + str(x.val))"
   ]
  },
  {
   "cell_type": "code",
   "execution_count": null,
   "metadata": {},
   "outputs": [],
   "source": [
    "def genVar(x):\n",
    "    if Global < x.lev < curlev: mark('WASM: level!')\n",
    "    y = Var(x.tp); y.lev, y.name = x.lev, x.name\n",
    "    if x.lev == MemAbs: y.adr = x.adr\n",
    "    return y"
   ]
  },
  {
   "cell_type": "markdown",
   "metadata": {},
   "source": [
    "Procedure `genConst(x)` does not need to generate any code."
   ]
  },
  {
   "cell_type": "code",
   "execution_count": null,
   "metadata": {},
   "outputs": [],
   "source": [
    "def genConst(x):\n",
    "    # x is Const\n",
    "    x.lev = None # constants are either not stored or on stack, lev == Stack\n",
    "    return x"
   ]
  },
  {
   "cell_type": "markdown",
   "metadata": {},
   "source": [
    "Procedure `genUnaryOp(op, x)` generates code for `op x` if `op` is `MINUS`, `NOT`, `CARD`, `COMPLEMENT`, `Set`; the `Set` operation is for a singleton set. If `op` is `AND`, `OR`, item `x` is the first operand and an `if` instruction is generated."
   ]
  },
  {
   "cell_type": "code",
   "execution_count": null,
   "metadata": {},
   "outputs": [],
   "source": [
    "def genUnaryOp(op, x):\n",
    "    loadItem(x)\n",
    "    if op == MINUS:\n",
    "        asm.append('i32.const -1')\n",
    "        asm.append('i32.mul')\n",
    "        x = Var(Int); x.lev = Stack\n",
    "    elif op == CARD:\n",
    "        asm.append('i32.popcnt')\n",
    "        x = Var(Int); x.lev = Stack\n",
    "    elif op == COMPLEMENT:\n",
    "        u = (1 << x.tp.length) - 1 # x.tp.length 1's\n",
    "        u = u << x.tp.lower # universe of base type\n",
    "        asm.append('i32.const ' + hex(u))\n",
    "        asm.append('i32.xor')\n",
    "        x = Var(x.tp); x.lev = Stack\n",
    "    elif op == SET:\n",
    "        asm.append('local.set $0')\n",
    "        asm.append('i32.const 1')\n",
    "        asm.append('local.get $0')\n",
    "        asm.append('i32.shl')\n",
    "        x = Var(Set(0, 32)); x.lev = Stack\n",
    "    elif op == NOT:\n",
    "        asm.append('i32.eqz')\n",
    "        x = Var(Bool); x.lev = Stack\n",
    "    elif op == AND:\n",
    "        asm.append('if (result i32)')\n",
    "        x = Var(Bool); x.lev = Stack\n",
    "    elif op == OR:\n",
    "        asm.append('if (result i32)')\n",
    "        asm.append('i32.const 1')\n",
    "        asm.append('else')\n",
    "        x = Var(Bool); x.lev = Stack\n",
    "    elif op == ELEMENT:\n",
    "        asm.append('local.set $0')\n",
    "        asm.append('i32.const 1')\n",
    "        asm.append('local.get $0')\n",
    "        asm.append('i32.shl')\n",
    "        x = Var(Int); x.lev = Stack\n",
    "    elif op in {SUBSET, SUPERSET}:\n",
    "        asm.append('local.tee $0')\n",
    "        asm.append('local.get $0')\n",
    "        x.lev = Stack\n",
    "    else: mark('WASM: unary operator?')\n",
    "    return x"
   ]
  },
  {
   "cell_type": "markdown",
   "metadata": {},
   "source": [
    "Procedure `genBinaryOp(op, x, y)` generates code for `x op y` if `op` is `PLUS`, `MINUS`, `TIMES`, `DIV`, `MOD`, `UNION`, `INTERSECTION`. If `op` is `AND`, `OR`, code for `x` and the start of an `if` instruction has already been generated; code for `y` and the remainder of the `if` instruction is generated."
   ]
  },
  {
   "cell_type": "code",
   "execution_count": null,
   "metadata": {},
   "outputs": [],
   "source": [
    "def genBinaryOp(op, x, y):\n",
    "    if op in (PLUS, MINUS, TIMES, DIV, MOD):\n",
    "        loadItem(x); loadItem(y)\n",
    "        asm.append('i32.add' if op == PLUS else \\\n",
    "                   'i32.sub' if op == MINUS else \\\n",
    "                   'i32.mul' if op == TIMES else \\\n",
    "                   'i32.div_s' if op == DIV else \\\n",
    "                   'i32.rem_s' if op == MOD else '?')\n",
    "        x = Var(Int); x.lev = Stack\n",
    "    elif op in {UNION, INTERSECTION}:\n",
    "        loadItem(x); loadItem(y)\n",
    "        asm.append('i32.or' if op == UNION else \\\n",
    "                   'i32.and' if op == INTERSECTION else '?')\n",
    "        x = Var(x.tp); x.lev = Stack\n",
    "    elif op == AND:\n",
    "        loadItem(y) # x is already on the stack\n",
    "        asm.append('else')\n",
    "        asm.append('i32.const 0')\n",
    "        asm.append('end')\n",
    "        x = Var(Bool); x.lev = Stack\n",
    "    elif op == OR:\n",
    "        loadItem(y) # x is already on the stack\n",
    "        asm.append('end')\n",
    "        x = Var(Bool); x.lev = Stack\n",
    "    else: mark('WASM: binary operator?')\n",
    "    return x"
   ]
  },
  {
   "cell_type": "markdown",
   "metadata": {},
   "source": [
    "Procedure `genRelation(op, x, y)` generates code for `x op y` if `op` is `EQ`, `NE`, `LT`, `LE`, `GT`, `GE`, `ELEMENT`, `SUBSET`, `SUPERSET`."
   ]
  },
  {
   "cell_type": "code",
   "execution_count": null,
   "metadata": {},
   "outputs": [],
   "source": [
    "def genRelationLoader(x):\n",
    "    loadItem(x)"
   ]
  },
  {
   "cell_type": "code",
   "execution_count": null,
   "metadata": {},
   "outputs": [],
   "source": [
    "def genRelation(op, x, y):\n",
    "    asm.extend(['i32.eq'] if op == EQ else \\\n",
    "               ['i32.ne'] if op == NE else \\\n",
    "               ['i32.lt_s'] if op ==  LT else \\\n",
    "               ['i32.gt_s'] if op == GT else \\\n",
    "               ['i32.le_s'] if op == LE else \\\n",
    "               ['i32.ge_s'] if op == GE else \\\n",
    "               ['i32.and'] if op == ELEMENT else \\\n",
    "               ['i32.and', 'i32.eq'] if op == SUBSET else \\\n",
    "               ['i32.or', 'i32.eq'] if op == SUPERSET else '?')\n",
    "    x = Var(Bool); x.lev = Stack\n",
    "    return x"
   ]
  },
  {
   "cell_type": "markdown",
   "metadata": {},
   "source": [
    "Procedure `genIndex(x, y)` generates code for `x[y]`, assuming `x` is `Var` or `Ref`, `x.tp` is `Array`, and `y.tp` is `Int`. If `y` is `Const`, only `x.adr` is updated and no code is generated, otherwise code for array index calculation is generated."
   ]
  },
  {
   "cell_type": "code",
   "execution_count": null,
   "metadata": {},
   "outputs": [],
   "source": [
    "def genIndex(x, y):\n",
    "    # x[y], assuming x.tp is Array and x is global Var, local Var\n",
    "    # and y is Const, local Var, global Var, stack Var\n",
    "    if x.lev == MemAbs and type(y) == Const: \n",
    "        x.adr += (y.val - x.tp.lower) * x.tp.base.size\n",
    "        x.tp = x.tp.base\n",
    "    else:\n",
    "        loadItem(y)\n",
    "        if x.tp.lower != 0:\n",
    "            asm.append('i32.const ' + str(x.tp.lower))\n",
    "            asm.append('i32.sub')\n",
    "        asm.append('i32.const ' + str(x.tp.base.size))\n",
    "        asm.append('i32.mul')\n",
    "        if x.lev > 0: asm.append('local.get $' + x.name)\n",
    "        elif x.lev == MemAbs: asm.append('i32.const ' + str(x.adr))\n",
    "        asm.append('i32.add') \n",
    "        x = Var(x.tp.base)\n",
    "        if x.tp in (Int, Bool) or type(x.tp) == Set: x.lev = MemInd\n",
    "        else: x.lev = Stack\n",
    "    return x"
   ]
  },
  {
   "cell_type": "markdown",
   "metadata": {},
   "source": [
    "Procedure `genSelect(x, f)` generates code for `x.f`, provided `f` is in `x.fields`. If `x` is `Var`, i.e. allocated in memory, only `x.adr` is updated and no code is generated. If `x` is `Ref`, i.e. a reference to memory, code for adding the offset of `f` is generated. An updated item is returned."
   ]
  },
  {
   "cell_type": "code",
   "execution_count": null,
   "metadata": {},
   "outputs": [],
   "source": [
    "def genSelect(x, f):\n",
    "    # x.f, assuming x.tp is Record, f is Field, and x.lev is Stack, MemInd or is > 0\n",
    "    if x.lev == MemAbs: x.adr += f.offset\n",
    "    elif x.lev == Stack:\n",
    "        asm.append('i32.const ' + str(f.offset))\n",
    "        asm.append('i32.add')\n",
    "    elif x.lev > 0:\n",
    "        asm.append('local.get $' + x.name) # parameter or local reference\n",
    "        asm.append('i32.const ' + str(f.offset))\n",
    "        asm.append('i32.add')\n",
    "        x.lev = Stack\n",
    "    else: mark('WASM: select?')\n",
    "    x.tp = f.tp\n",
    "    return x"
   ]
  },
  {
   "cell_type": "markdown",
   "metadata": {},
   "source": [
    "Procedures `genLeftAssign` and `genRightAssign` prepare for code generation for multiple assignment statements: `genLeftAssign` completes the generated code for a variable and designator on the left-hand side of an assignment statement. That is only needed for an array that is indexed with a constant expression, as in that case no code was generated."
   ]
  },
  {
   "cell_type": "code",
   "execution_count": null,
   "metadata": {},
   "outputs": [],
   "source": [
    "def genLeftAssign(x):\n",
    "    if x.lev == MemAbs: asm.append('i32.const ' + str(x.adr))\n",
    "    elif x.lev > 0 and type(x.tp) in (Array, Record):\n",
    "        asm.append('local.get $' + x.name)\n",
    "    return x"
   ]
  },
  {
   "cell_type": "markdown",
   "metadata": {},
   "source": [
    "Procedure `genRightAssign` generated code that pushes the right-hand side of an assignment onto the stack, if it is not already there."
   ]
  },
  {
   "cell_type": "code",
   "execution_count": null,
   "metadata": {},
   "outputs": [],
   "source": [
    "def genRightAssign(x):\n",
    "    loadItem(x); y = Var(x.tp); y.lev = Stack; return y"
   ]
  },
  {
   "cell_type": "markdown",
   "metadata": {},
   "source": [
    "Procedure `genAssign(x, y)` generates code for `x := y`, provided `x` is `Var`, `Ref` and `y` is `Var`, `Ref`. The procedure assumes in case `x` refers to an array element, the address is already on the stack and that `y` is on the stack."
   ]
  },
  {
   "cell_type": "code",
   "execution_count": null,
   "metadata": {},
   "outputs": [],
   "source": [
    "def genAssign(x, y):\n",
    "    loadItem(y)\n",
    "    if x.lev == Global: asm.append('global.set $' + x.name)\n",
    "    elif x.lev > 0:\n",
    "        if type(x.tp) in (Array, Record):\n",
    "            asm.append('i32.const ' + str(x.tp.size))\n",
    "            asm.append('memory.copy')\n",
    "        else: asm.append('local.set $' + x.name)\n",
    "    else:\n",
    "        if type(x.tp) in (Array, Record):\n",
    "            asm.append('i32.const ' + str(x.tp.size))\n",
    "            asm.append('memory.copy')\n",
    "        else: asm.append('i32.store')"
   ]
  },
  {
   "cell_type": "code",
   "execution_count": null,
   "metadata": {},
   "outputs": [],
   "source": [
    "def genProgEntry(ident):\n",
    "    global curlev\n",
    "    curlev = curlev + 1\n",
    "    asm.append('(global $_memsize (mut i32) i32.const ' + str(memsize) + ')')\n",
    "    asm.append('(func $program')\n",
    "\n",
    "def genProgExit(x):\n",
    "    global curlev\n",
    "    curlev = curlev - 1\n",
    "    asm.append('(memory ' + str(memsize // 2** 16 + 1) + ')\\n(start $program)\\n)')\n",
    "    return '\\n'.join(l for l in asm)\n",
    "\n",
    "def genProcStart(ident, fp, rp):\n",
    "    global curlev\n",
    "    if curlev > 0: mark('WASM: no nested procedures')\n",
    "    curlev = curlev + 1\n",
    "    asm.append('(func $' + ident + ' ' +\n",
    "               ' '.join('(param $' + e.name + ' i32)' for e in fp) + ' ' + \n",
    "               ' '.join('(result i32)' for e in rp) +\n",
    "               ('\\n' if len(rp) > 0 else '') +\n",
    "               '\\n'.join('(local $' + e.name + ' i32)' for e in rp))\n",
    "    return rp\n",
    "\n",
    "def genProcEntry(ident, para, local):\n",
    "    pl = (para if para else []) + local\n",
    "    if any(type(l) == Var and type(l.tp) in (Array, Record) for l in pl):\n",
    "        asm.append('(local $_fp i32)')\n",
    "        asm.append('global.get $_memsize')\n",
    "        asm.append('local.set $_fp')\n",
    "    for l in pl:\n",
    "        if type(l) == Var and type(l.tp) in (Array, Record):\n",
    "            asm.append('global.get $_memsize')\n",
    "            asm.append('local.tee $' + l.name)\n",
    "            asm.append('i32.const ' + str(l.tp.size))\n",
    "            asm.append('i32.add')\n",
    "            asm.append('global.set $_memsize')\n",
    "\n",
    "def genProcExit(x, para, local):\n",
    "    global curlev\n",
    "    curlev = curlev - 1\n",
    "    if any(type(l) == Var and type(l.tp) in (Array, Record) for l in local):\n",
    "        asm.append('local.get $_fp')\n",
    "        asm.append('global.set $_memsize')\n",
    "    if para: asm.append('\\n'.join('local.get $' + e.name for e in para))\n",
    "    asm.append(')')\n",
    "\n",
    "def genActualPara(ap, fp, n):\n",
    "    if ap.tp in {Int, Bool} or type(ap.tp) == Set: loadItem(ap)\n",
    "    else: # a.tp is Array, Record\n",
    "        if ap.lev > 0: asm.append('local.get $' + ap.name)\n",
    "        elif ap.lev == MemAbs: asm.append('i32.const ' + str(ap.adr))\n",
    "        elif ap.lev != Stack: mark('WASM: actual parameter?')\n",
    "\n",
    "def genCall(rp, pr, ap): # result (or None), procedure, actual parameters\n",
    "    asm.append('call $' + pr.name)\n",
    "    for r in reversed(rp): y = Var(Int); y.lev = Stack; genAssign(r, y)\n",
    "\n",
    "def genRead(x):\n",
    "    asm.append('call $read')\n",
    "    y = Var(Int); y.lev = Stack; genAssign(x, y)\n",
    "\n",
    "def genWrite(x):\n",
    "    asm.append('call $write')\n",
    "\n",
    "def genWriteln():\n",
    "    asm.append('call $writeln')"
   ]
  },
  {
   "cell_type": "code",
   "execution_count": null,
   "metadata": {},
   "outputs": [],
   "source": [
    "def genSeq(x, y):\n",
    "    pass\n",
    "\n",
    "def genThen(x):\n",
    "    loadItem(x)\n",
    "    asm.append('if')\n",
    "    return x\n",
    "\n",
    "def genIfThen(x, y):\n",
    "    asm.append('end')\n",
    "\n",
    "def genElse(x, y):\n",
    "    asm.append('else')\n",
    "\n",
    "def genIfElse(x, y, z):\n",
    "    asm.append('end')\n",
    "\n",
    "def genWhile():\n",
    "    asm.append('loop')\n",
    "\n",
    "def genDo(x):\n",
    "    loadItem(x)\n",
    "    asm.append('if')\n",
    "    return x\n",
    "\n",
    "def genWhileDo(t, x, y):\n",
    "    asm.append('br 1')\n",
    "    asm.append('end')\n",
    "    asm.append('end')"
   ]
  },
  {
   "cell_type": "code",
   "execution_count": null,
   "metadata": {},
   "outputs": [],
   "source": [
    "def genQuantifierBase(op, lower_limit, upper_limit, quant_var):\n",
    "    #for now lets assume that quantifier iter variable is created by user locally\n",
    "    loadItem(lower_limit)\n",
    "    asm.append(f'local.set ${quant_var.name}')\n",
    "\n",
    "    asm.append('global.get $_memsize')\n",
    "    #preload a neutral value into result variable\n",
    "    if op == FORALL:\n",
    "        asm.append('i32.const 1') #1 for and # 0 for or\n",
    "    else:\n",
    "        asm.append('i32.const 0')\n",
    "    asm.append('i32.store')\n",
    "\n",
    "    #condition code\n",
    "    asm.append(f'loop ${quant_var.name}_loop')\n",
    "    asm.append(f'local.get ${quant_var.name}')\n",
    "    loadItem(upper_limit)\n",
    "    asm.append('i32.le_s') #less than or equal to\n",
    "    asm.append('if')\n",
    "    #Application code\n",
    "    asm.append('global.get $_memsize')"
   ]
  },
  {
   "cell_type": "code",
   "execution_count": null,
   "metadata": {},
   "outputs": [],
   "source": [
    "def genQuantifierTail(op, lower_limit, upper_limit, quant_var):\n",
    "    asm.append('global.get $_memsize')\n",
    "    asm.append('i32.load') #load the previous value\n",
    "\n",
    "    #There should be a result of operation on the stack\n",
    "    if op == FORALL:\n",
    "        asm.append('i32.and') #this will combine last loop result with current one\n",
    "    else:\n",
    "        asm.append('i32.or')\n",
    "\n",
    "    asm.append('i32.store')\n",
    "\n",
    "    #increment the iterator var\n",
    "    asm.append(f'local.get ${quant_var.name}')\n",
    "    asm.append('i32.const 1')\n",
    "    asm.append('i32.add')\n",
    "    asm.append(f'local.set ${quant_var.name}')\n",
    "    \n",
    "    #Tail end\n",
    "    asm.append(f'br ${quant_var.name}_loop')\n",
    "    asm.append('end')\n",
    "    asm.append('end')\n",
    "\n",
    "    asm.append('global.get $_memsize') #load the final result\n",
    "    asm.append('i32.load')\n",
    "\n",
    "    x = Var(Bool); x.lev = Stack\n",
    "    return x"
   ]
  },
  {
   "cell_type": "code",
   "execution_count": null,
   "metadata": {},
   "outputs": [],
   "source": [
    "def genArrayBuildBase(lower_limit, upper_limit, quant_var):\n",
    "    #We have to save the source address to use it after the if, since it absorbs the stack\n",
    "    asm.append(f'local.set ${quant_var.name}')\n",
    "    asm.append('global.get $_memsize')\n",
    "    asm.append(f'local.get ${quant_var.name}')\n",
    "    asm.append('i32.store')\n",
    "\n",
    "    #Adjust _memsize appropriately\n",
    "    asm.append('i32.const 4')\n",
    "    asm.append('global.get $_memsize')\n",
    "    asm.append('i32.add')\n",
    "    asm.append('global.set $_memsize')\n",
    "\n",
    "    #Set up the loop/iterator code upper half\n",
    "    loadItem(lower_limit)\n",
    "    asm.append(f'local.set ${quant_var.name}')\n",
    "\n",
    "    asm.append(f'loop ${quant_var.name}_loop')\n",
    "    asm.append(f'local.get ${quant_var.name}')\n",
    "    loadItem(upper_limit)\n",
    "    asm.append('i32.le_s') #less than or equal to\n",
    "    asm.append('if') #terminator if statement\n",
    "    \n",
    "    #Caclulate the iterator to the current element\n",
    "    asm.append(f'local.get ${quant_var.name}')\n",
    "    asm.append(f'i32.const {lower_limit.val}')\n",
    "    asm.append('i32.sub')\n",
    "    asm.append('i32.const 4')\n",
    "    asm.append('i32.mul')\n",
    "    \n",
    "    #Load the array address to calculate the iterator pointer\n",
    "    asm.append('global.get $_memsize')\n",
    "    asm.append('i32.add') #At this point we will have the local array element address on the stack"
   ]
  },
  {
   "cell_type": "code",
   "execution_count": null,
   "metadata": {},
   "outputs": [],
   "source": [
    "def genArrayBuildTail(lower_limit, upper_limit, quant_var, base_type):\n",
    "    #at this point we have the value on the stack, we store it.\n",
    "    asm.append('i32.store')\n",
    "    \n",
    "    #increment the iterator var\n",
    "    asm.append(f'local.get ${quant_var.name}')\n",
    "    asm.append('i32.const 1')\n",
    "    asm.append('i32.add')\n",
    "    asm.append(f'local.set ${quant_var.name}') \n",
    "    \n",
    "    #tail of the loop\n",
    "    asm.append(f'br ${quant_var.name}_loop')# Terminating the loop\n",
    "    asm.append('end')\n",
    "    asm.append('end')\n",
    "    \n",
    "    #Adjust _memsize appropriately\n",
    "    asm.append('global.get $_memsize')\n",
    "    asm.append('i32.const 4')\n",
    "    asm.append('i32.sub')\n",
    "    asm.append('global.set $_memsize')\n",
    "\n",
    "    asm.append('global.get $_memsize')\n",
    "    #Load the destination address\n",
    "    asm.append('i32.load')\n",
    "    \n",
    "    asm.append('global.get $_memsize')\n",
    "    asm.append('i32.const 4')\n",
    "    asm.append('i32.add')\n",
    "\n",
    "    x = Var(Array(base_type, lower_limit.val, (upper_limit.val - lower_limit.val) + 1))\n",
    "    x.name = None\n",
    "    x.lev = Stack\n",
    "    #clean up the local memory\n",
    "    return x"
   ]
  },
  {
   "cell_type": "code",
   "execution_count": null,
   "metadata": {},
   "outputs": [],
   "source": [
    "def genSetBuildBase(lower_limit, upper_limit, quant_var):\n",
    "    loadItem(lower_limit)\n",
    "    asm.append(f'local.set ${quant_var.name}')\n",
    "    \n",
    "    asm.append('global.get $_memsize')\n",
    "    #preload the stack with neutral value for set or\n",
    "    asm.append('i32.const 0')\n",
    "    asm.append('i32.store')\n",
    "\n",
    "    #condition code\n",
    "    asm.append(f'loop ${quant_var.name}_loop')\n",
    "    asm.append(f'local.get ${quant_var.name}')\n",
    "    loadItem(upper_limit)\n",
    "    asm.append('i32.le_s') #less than or equal to\n",
    "    asm.append('if')\n",
    "    #Application code\n",
    "\n",
    "def genSetBuildMid():\n",
    "    #Condition code has been placed on the stack at this point\n",
    "    asm.append('if') #condition passes\n",
    "    asm.append('global.get $_memsize') #get ready to write to result location\n",
    "\n",
    "    asm.append('i32.const 1') #Set up the number to be shifted by result value "
   ]
  },
  {
   "cell_type": "code",
   "execution_count": null,
   "metadata": {},
   "outputs": [],
   "source": [
    "def genSetBuildTail(lower_limit, upper_limit, quant_var):\n",
    "    #asm.append(f'local.get ${quant_var.name}')#the result of evaluation of expression operand has been placed on the stack at this point which for sets is just i\n",
    "    asm.append('i32.shl') #this shifts the result of the operation to represent is as a set.\n",
    "    #Tail of the loop\n",
    "    asm.append('global.get $_memsize')\n",
    "    asm.append('i32.load') #load the previous value\n",
    "    asm.append('i32.or') #this combines the previous and current states of the set (union)\n",
    "    asm.append('i32.store')\n",
    "    asm.append('end')\n",
    "\n",
    "    #increment the iterator var\n",
    "    asm.append(f'local.get ${quant_var.name}')\n",
    "    asm.append('i32.const 1')\n",
    "    asm.append('i32.add')\n",
    "    asm.append(f'local.set ${quant_var.name}')\n",
    "    \n",
    "    #Tail end\n",
    "    asm.append(f'br ${quant_var.name}_loop')\n",
    "    asm.append('end')\n",
    "    asm.append('end')\n",
    "\n",
    "    asm.append('global.get $_memsize') #load the final result\n",
    "    asm.append('i32.load')\n",
    "\n",
    "    x = Var(Set(lower_limit.val, (upper_limit.val - lower_limit.val) + 1)); x.lev = Stack\n",
    "    return x\n"
   ]
  }
 ],
 "metadata": {
  "kernelspec": {
   "display_name": "Python 3",
   "language": "python",
   "name": "python3"
  },
  "language_info": {
   "codemirror_mode": {
    "name": "ipython",
    "version": 3
   },
   "file_extension": ".py",
   "mimetype": "text/x-python",
   "name": "python",
   "nbconvert_exporter": "python",
   "pygments_lexer": "ipython3",
   "version": "3.8.8"
  },
  "toc": {
   "base_numbering": 1,
   "nav_menu": {},
   "number_sections": false,
   "sideBar": false,
   "skip_h1_title": true,
   "title_cell": "Table of Contents",
   "title_sidebar": "Contents",
   "toc_cell": false,
   "toc_position": {},
   "toc_section_display": true,
   "toc_window_display": false
  }
 },
 "nbformat": 4,
 "nbformat_minor": 2
}
